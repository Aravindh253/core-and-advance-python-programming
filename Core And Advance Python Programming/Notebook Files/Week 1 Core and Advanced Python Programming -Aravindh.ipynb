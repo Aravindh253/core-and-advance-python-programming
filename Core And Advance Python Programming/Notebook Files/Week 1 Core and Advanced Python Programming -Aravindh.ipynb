{
 "cells": [
  {
   "cell_type": "markdown",
   "id": "424a9a30",
   "metadata": {},
   "source": [
    "# Q1.Create a program that displays your name and complete mailing address formatted in the manner that you would usually see it on the outside of an envelope. Your program does not need to read any input from the user"
   ]
  },
  {
   "cell_type": "code",
   "execution_count": 1,
   "id": "1ee8d82c",
   "metadata": {},
   "outputs": [
    {
     "name": "stdout",
     "output_type": "stream",
     "text": [
      "Enter your Name:Aravindh\n",
      "Enter your Address:aravindh609404@gmail.com\n",
      "Name: Aravindh\n",
      "Address: aravindh609404@gmail.com\n"
     ]
    }
   ],
   "source": [
    "\n",
    "Name=input('Enter your Name:')\n",
    "Address=input('Enter your Address:')\n",
    "print('Name:',Name)\n",
    "print('Address:',Address)"
   ]
  },
  {
   "cell_type": "markdown",
   "id": "a59cc662",
   "metadata": {},
   "source": [
    "# Q2.Write a program that asks the user to enter his or her name. The program should respond with a message that says hello to the user, using his or her name."
   ]
  },
  {
   "cell_type": "code",
   "execution_count": 2,
   "id": "705aa2af",
   "metadata": {},
   "outputs": [
    {
     "name": "stdout",
     "output_type": "stream",
     "text": [
      "enter your name:Aravindh\n",
      "The string  entered is str: Aravindh\n",
      "Hello Aravindh\n"
     ]
    }
   ],
   "source": [
    "\n",
    "str=input('enter your name:')\n",
    "print('The string  entered is str:',str)\n",
    "print('Hello',str)\n",
    "\n",
    "\n"
   ]
  },
  {
   "cell_type": "markdown",
   "id": "3b529fa2",
   "metadata": {},
   "source": [
    "# Q3.Write a program that accepts radius (datatype : float) of a circle from the user. Calculate and display the area and circumference of the circle"
   ]
  },
  {
   "cell_type": "code",
   "execution_count": 4,
   "id": "790058c8",
   "metadata": {},
   "outputs": [
    {
     "name": "stdout",
     "output_type": "stream",
     "text": [
      "Enter the radius of the circle:25\n",
      "The area of the circle: 1600.0\n",
      "The circumference of the circle: 128.0\n"
     ]
    }
   ],
   "source": [
    "\n",
    "radius=float(input('Enter the radius of the circle:'))\n",
    "area=2.56*radius*radius\n",
    "circum=2*2.56*radius\n",
    "print(\"The area of the circle:\",area)\n",
    "print(\"The circumference of the circle:\",circum)"
   ]
  },
  {
   "cell_type": "markdown",
   "id": "a2a1792d",
   "metadata": {},
   "source": [
    "# Q4.Write a program that accepts length and breadth (both float) of a rectangle from the user. Calculate and display the area and perimeter of the rectangle"
   ]
  },
  {
   "cell_type": "code",
   "execution_count": 5,
   "id": "7414b998",
   "metadata": {},
   "outputs": [
    {
     "name": "stdout",
     "output_type": "stream",
     "text": [
      "Enter the length of Rectangle:7.5\n",
      "Enter the Breadth of Rectangle:5\n",
      "Area of Rectangle: 37.5\n",
      "perimeter of Rectangle: 25.0\n"
     ]
    }
   ],
   "source": [
    "\n",
    "L=float(input('Enter the length of Rectangle:'))\n",
    "B=float(input('Enter the Breadth of Rectangle:'))\n",
    "Area=L*B\n",
    "perimeter=2*(L+B)\n",
    "\n",
    "print('Area of Rectangle:',Area)\n",
    "print('perimeter of Rectangle:',perimeter)"
   ]
  },
  {
   "cell_type": "markdown",
   "id": "21356ffc",
   "metadata": {},
   "source": [
    "# Q5.Write a program to accept the side (datatype : float) of a square from the user. Calculate and display the area and perimeter of the square"
   ]
  },
  {
   "cell_type": "code",
   "execution_count": 7,
   "id": "c2ff9639",
   "metadata": {},
   "outputs": [
    {
     "name": "stdout",
     "output_type": "stream",
     "text": [
      "Enter the side of the square:5.9\n",
      "Area of square: 34.81\n",
      "perimeter of square: 23.6\n"
     ]
    }
   ],
   "source": [
    "\n",
    "s=float(input('Enter the side of the square:'))\n",
    "Area=s*s\n",
    "perimeter=4*s\n",
    "print('Area of square:',Area)\n",
    "print('perimeter of square:',perimeter)"
   ]
  },
  {
   "cell_type": "markdown",
   "id": "8f55ab14",
   "metadata": {},
   "source": [
    "# Q6.Write a program to accept the temperature (datatype : float) in Fahrenheit and convert it into Centigrade. Modify the program to accept the temperature in Centigrade and convert it into Fahrenheit"
   ]
  },
  {
   "cell_type": "code",
   "execution_count": 8,
   "id": "232d8764",
   "metadata": {},
   "outputs": [
    {
     "name": "stdout",
     "output_type": "stream",
     "text": [
      "enter the centigrade:23\n",
      "The  temperature of the faherenheit 73.4\n",
      "enter the faherenheit:23\n",
      "The  temperature of the centigrade 23.0\n"
     ]
    }
   ],
   "source": [
    "\n",
    "centigrade=float(input('enter the centigrade:'))\n",
    "fahrenheit=(centigrade * 1.8)+32\n",
    "print('The  temperature of the faherenheit',fahrenheit)\n",
    "faherenheit=float(input('enter the faherenheit:'))\n",
    "celsius=(faherenheit-32)/1.8\n",
    "print('The  temperature of the centigrade',centigrade)\n"
   ]
  },
  {
   "cell_type": "markdown",
   "id": "2e6d87ae",
   "metadata": {},
   "source": [
    "# Q7.Write a program to accept two complex numbers. Perform addition, subtraction and multiplication of these numbers an display the results to the user"
   ]
  },
  {
   "cell_type": "code",
   "execution_count": 9,
   "id": "7ece8519",
   "metadata": {},
   "outputs": [
    {
     "name": "stdout",
     "output_type": "stream",
     "text": [
      "Enter your first complex number:9+1j\n",
      "Enter your second complex number:7+4j\n",
      "The sum of a1 and a2: (16+5j)\n",
      "Enter your first complex number:3+8j\n",
      "Enter your second complex number:10-7j\n",
      "The subraction of a2 and a1: (7-15j)\n",
      "Enter your first complex number:4+8j\n",
      "Enter your second complex number:2+3j\n",
      "The Multiplication of a1 and a2: (-16+28j)\n"
     ]
    }
   ],
   "source": [
    "\n",
    "#Addition\n",
    "a1=complex(input('Enter your first complex number:'))\n",
    "a2=complex(input('Enter your second complex number:'))\n",
    "b=a1+a2\n",
    "print(\"The sum of a1 and a2:\",b)\n",
    "\n",
    "#Subraction\n",
    "a1=complex(input('Enter your first complex number:'))\n",
    "a2=complex(input('Enter your second complex number:'))\n",
    "b=a2-a1\n",
    "print(\"The subraction of a2 and a1:\",b)\n",
    "\n",
    "#Multiplication\n",
    "a1=complex(input('Enter your first complex number:'))\n",
    "a2=complex(input('Enter your second complex number:'))\n",
    "b=a1*a2\n",
    "print(\"The Multiplication of a1 and a2:\",b)"
   ]
  },
  {
   "cell_type": "markdown",
   "id": "90f9da2b",
   "metadata": {},
   "source": [
    "# Q8.Write a program to accept the name and basic salary (datatype : float) of an employee. Calculate the dearness allowance as 40 % of basic and house rent allowance as 20 % of basic. Display the gross salary to the user. (Hint: gross salary = basic salary + dearness allowance + house rent allowance)"
   ]
  },
  {
   "cell_type": "code",
   "execution_count": 10,
   "id": "40b68347",
   "metadata": {},
   "outputs": [
    {
     "name": "stdout",
     "output_type": "stream",
     "text": [
      "enter your name:Aravindh\n",
      "The string entered is: Aravindh\n",
      "enter the basic salary:25000\n",
      "Dearness allowances: 10000.0\n",
      "House rent allowances: 5000.0\n",
      "Gross salary: 40000.0\n"
     ]
    },
    {
     "data": {
      "text/plain": [
       "(None, None, None)"
      ]
     },
     "execution_count": 10,
     "metadata": {},
     "output_type": "execute_result"
    }
   ],
   "source": [
    "\n",
    "str1=input('enter your name:')\n",
    "print('The string entered is:',str1)\n",
    "Basic=float(input('enter the basic salary:'))\n",
    "DA=float(Basic*0.4)\n",
    "HRA=float(Basic*0.2)\n",
    "Grosspay=float(Basic+DA+HRA)\n",
    "print('Dearness allowances:',DA),print('House rent allowances:',HRA),print('Gross salary:',Grosspay)\n",
    "   "
   ]
  },
  {
   "cell_type": "markdown",
   "id": "5537d90f",
   "metadata": {},
   "source": [
    "# Q9. Write a program that reads a positive integer, n, from the user and then displays the sum of all of the integers from 1 to n. The sum of the first n positive integers can be computed using the formula: sum = (n)(n + 1)/ 2"
   ]
  },
  {
   "cell_type": "code",
   "execution_count": 11,
   "id": "e859e353",
   "metadata": {},
   "outputs": [
    {
     "name": "stdout",
     "output_type": "stream",
     "text": [
      "input a number:8\n",
      "36.0\n"
     ]
    }
   ],
   "source": [
    "\n",
    "n=int(input('input a number:'))\n",
    "sum=(n*(n+1)/2)\n",
    "print(sum)\n"
   ]
  },
  {
   "cell_type": "markdown",
   "id": "b107d1b1",
   "metadata": {},
   "source": [
    "# Q10.Create a program that reads two integers, a and b, from the user. Your program should compute and display:\n",
    "\n",
    "# a.The sum of a and b\n",
    "# b.The difference when b is subtracted from a\n",
    "# c.The product of a and b\n",
    "# d.The quotient when a is divided by b\n",
    "# e.The remainder when a is divided by b\n",
    "# f.The result of ab\n",
    "\n",
    "\n",
    "\n",
    "\n",
    "\n"
   ]
  },
  {
   "cell_type": "code",
   "execution_count": 12,
   "id": "f09a3769",
   "metadata": {},
   "outputs": [
    {
     "name": "stdout",
     "output_type": "stream",
     "text": [
      "Number1:60\n",
      "Number2:20\n",
      "80\n",
      "Number1:20\n",
      "Number2:60\n",
      "40\n",
      "Number1:20\n",
      "Number2:5\n",
      "100\n",
      "Number1:100\n",
      "Number2:5\n",
      "20.0\n"
     ]
    }
   ],
   "source": [
    "\n",
    "#The sum of a and b:\n",
    "a=int(input('Number1:'))\n",
    "b=int(input('Number2:'))\n",
    "sum=a+b\n",
    "print(sum)\n",
    "    \n",
    "    \n",
    "#The difference when b is subtracted from a:\n",
    "a=int(input('Number1:'))\n",
    "b=int(input('Number2:'))\n",
    "difference=b-a\n",
    "print(difference)\n",
    "    \n",
    "    \n",
    "#The product of a and b:\n",
    "a=int(input('Number1:'))\n",
    "b=int(input('Number2:'))\n",
    "multiply=a*b\n",
    "print(multiply)\n",
    "   \n",
    "#The quotient when a is divided by b:\n",
    "a=int(input('Number1:'))\n",
    "b=int(input('Number2:'))\n",
    "divide=a/b\n",
    "print(divide)\n",
    "   "
   ]
  },
  {
   "cell_type": "code",
   "execution_count": 13,
   "id": "7acddd6d",
   "metadata": {},
   "outputs": [
    {
     "name": "stdout",
     "output_type": "stream",
     "text": [
      "Number1:15\n",
      "Number2:1\n",
      "0\n",
      "Number1:2\n",
      "Number2:2\n",
      "4\n"
     ]
    }
   ],
   "source": [
    "#The remainder when a is divided by b:\n",
    "a=int(input('Number1:'))\n",
    "b=int(input('Number2:'))\n",
    "reminder=a%b\n",
    "print(reminder)\n",
    "\n",
    "\n",
    "#The result of ab:\n",
    "a=int(input('Number1:'))\n",
    "b=int(input('Number2:'))\n",
    "power=a**b\n",
    "print(power)"
   ]
  },
  {
   "cell_type": "code",
   "execution_count": null,
   "id": "c82b2ec6",
   "metadata": {},
   "outputs": [],
   "source": []
  },
  {
   "cell_type": "code",
   "execution_count": null,
   "id": "62104db9",
   "metadata": {},
   "outputs": [],
   "source": []
  },
  {
   "cell_type": "code",
   "execution_count": null,
   "id": "b1a6b5ec",
   "metadata": {},
   "outputs": [],
   "source": []
  },
  {
   "cell_type": "code",
   "execution_count": null,
   "id": "40807cc2",
   "metadata": {},
   "outputs": [],
   "source": []
  },
  {
   "cell_type": "code",
   "execution_count": null,
   "id": "ba249c61",
   "metadata": {},
   "outputs": [],
   "source": []
  },
  {
   "cell_type": "code",
   "execution_count": null,
   "id": "76a419fa",
   "metadata": {},
   "outputs": [],
   "source": []
  }
 ],
 "metadata": {
  "kernelspec": {
   "display_name": "Python 3 (ipykernel)",
   "language": "python",
   "name": "python3"
  },
  "language_info": {
   "codemirror_mode": {
    "name": "ipython",
    "version": 3
   },
   "file_extension": ".py",
   "mimetype": "text/x-python",
   "name": "python",
   "nbconvert_exporter": "python",
   "pygments_lexer": "ipython3",
   "version": "3.9.12"
  }
 },
 "nbformat": 4,
 "nbformat_minor": 5
}
