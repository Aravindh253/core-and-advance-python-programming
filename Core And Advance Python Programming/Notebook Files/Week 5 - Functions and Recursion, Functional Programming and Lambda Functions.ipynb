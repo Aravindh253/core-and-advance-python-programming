{
 "cells": [
  {
   "cell_type": "markdown",
   "id": "c81a85fc",
   "metadata": {},
   "source": [
    "# Q1.Write a function that takes the lengths of the two shorter sides of a right triangle as its parameters. Return the hypotenuse of the triangle, computed using Pythagorean theorem, as the function’s result.\n"
   ]
  },
  {
   "cell_type": "code",
   "execution_count": 1,
   "id": "63e37778",
   "metadata": {},
   "outputs": [
    {
     "name": "stdout",
     "output_type": "stream",
     "text": [
      "Enter a side of a: 25\n",
      "Enter a side of b: 12\n",
      "The Length of Hypotenuse is : 27.730849247724095\n"
     ]
    }
   ],
   "source": [
    "import math\n",
    "a = float(input('Enter a side of a: '))\n",
    "b = float(input('Enter a side of b: '))\n",
    "c = math.sqrt(a ** 2 + b ** 2)\n",
    "print('The Length of Hypotenuse is :',c)"
   ]
  },
  {
   "cell_type": "code",
   "execution_count": null,
   "id": "6c731521",
   "metadata": {},
   "outputs": [],
   "source": []
  },
  {
   "cell_type": "markdown",
   "id": "77933eb0",
   "metadata": {},
   "source": [
    "# Q2.An online retailer provides express shipping for many of its items at a rate of $10.95 for the first item, and $2.95 for each subsequent item. Write a function that takes the number of items in the order as its only parameter. Return the shipping charge for the order as the function’s result. Include a main program that reads the number of items purchased from the user and displays the shipping charge.\n",
    " "
   ]
  },
  {
   "cell_type": "code",
   "execution_count": 2,
   "id": "56e85519",
   "metadata": {},
   "outputs": [
    {
     "name": "stdout",
     "output_type": "stream",
     "text": [
      "Enter the number of orders :30\n",
      "The total shipping charges for 30 orders is : 96.50000000000001\n"
     ]
    }
   ],
   "source": [
    "def shipping_charge(n):\n",
    "    if (n == 1):\n",
    "        return 10.95\n",
    "\n",
    "    else:\n",
    "        return 10.95 + (n - 1) * (2.95)\n",
    "n = int(input(\"Enter the number of orders :\"))\n",
    "print(\"The total shipping charges for\",n,\"orders is :\",shipping_charge(n))"
   ]
  },
  {
   "cell_type": "code",
   "execution_count": null,
   "id": "3a077e82",
   "metadata": {},
   "outputs": [],
   "source": []
  },
  {
   "cell_type": "markdown",
   "id": "1e7378e8",
   "metadata": {},
   "source": [
    "# Q3.Write a function that takes three numbers as parameters, and returns the median value of those parameters as its result. Include a main program that reads three values from the user and displays their median."
   ]
  },
  {
   "cell_type": "code",
   "execution_count": 3,
   "id": "e8d59185",
   "metadata": {},
   "outputs": [
    {
     "name": "stdout",
     "output_type": "stream",
     "text": [
      "Input first parameter value : 25\n",
      "Input second parameters value : 63\n",
      "Input third parameters value : 85\n",
      "The median is 63.0\n"
     ]
    }
   ],
   "source": [
    "a = float(input(\"Input first parameter value : \"))\n",
    "b = float(input(\"Input second parameters value : \"))\n",
    "c = float(input(\"Input third parameters value : \"))\n",
    "if a > b:\n",
    "    if a < c:\n",
    "        median = a\n",
    "    elif b > c:\n",
    "        median = b\n",
    "    else:\n",
    "        median = c\n",
    "else:\n",
    "    if a > c:\n",
    "        median = a\n",
    "    elif b < c:\n",
    "        median = b\n",
    "    else:\n",
    "        median = c\n",
    "print(\"The median is\", median)"
   ]
  },
  {
   "cell_type": "code",
   "execution_count": null,
   "id": "43ad2be1",
   "metadata": {},
   "outputs": [],
   "source": []
  },
  {
   "cell_type": "markdown",
   "id": "14b429af",
   "metadata": {},
   "source": [
    "# Q4.Write a function that determines whether or not three lengths can form a triangle. The function will take 3 parameters and return a Boolean result. In addition, write a program that reads 3 lengths from the user and demonstrates the behavior of this function. In general, if any one length is greater than or equal to the sum of the other two then the lengths cannot be used to form a triangle. Otherwise they can form a triangle.\n",
    " "
   ]
  },
  {
   "cell_type": "code",
   "execution_count": 4,
   "id": "1701d893",
   "metadata": {},
   "outputs": [
    {
     "name": "stdout",
     "output_type": "stream",
     "text": [
      "Enter the value of length 1 :5\n",
      "Enter the value of length 2 :4\n",
      "Enter the value of length 3 :6\n"
     ]
    },
    {
     "data": {
      "text/plain": [
       "True"
      ]
     },
     "execution_count": 4,
     "metadata": {},
     "output_type": "execute_result"
    }
   ],
   "source": [
    "def triangle(A,B,C):\n",
    "    if A+B >= C and B+C >= A and C+A >= B:\n",
    "        return True\n",
    "    else:\n",
    "        return False\n",
    "A = int(input('Enter the value of length 1 :'))\n",
    "B = int(input('Enter the value of length 2 :'))\n",
    "C = int(input('Enter the value of length 3 :'))\n",
    "triangle(A,B,C)"
   ]
  },
  {
   "cell_type": "code",
   "execution_count": null,
   "id": "c763c570",
   "metadata": {},
   "outputs": [],
   "source": []
  },
  {
   "cell_type": "markdown",
   "id": "818d21eb",
   "metadata": {},
   "source": [
    "# Q5.In this exercise you will write a function named isInteger that determines whether or not the characters in a string represent a valid integer. When determining if a string represents an integer you should ignore any leading or trailing white space. Once this white space is ignored, a string represents an integer if its length is at least 1 and it only contains digits, or if its first character is either + or - and the first character is followed by one or more characters, all of which are digits. Write a main program that reads a string from the user and reports whether or not it represents an integer.\n"
   ]
  },
  {
   "cell_type": "code",
   "execution_count": 5,
   "id": "05803deb",
   "metadata": {},
   "outputs": [
    {
     "name": "stdout",
     "output_type": "stream",
     "text": [
      "Enter a value :6\n",
      "True\n"
     ]
    }
   ],
   "source": [
    "\n",
    "str1=input('Enter a value :')\n",
    "def isinteger(str1):\n",
    "    n=str1.replace('','')\n",
    "    x=n.lstrip('-+')\n",
    "    return x.isdigit()\n",
    "print(isinteger(str1))"
   ]
  },
  {
   "cell_type": "code",
   "execution_count": null,
   "id": "271c6860",
   "metadata": {},
   "outputs": [],
   "source": []
  },
  {
   "cell_type": "markdown",
   "id": "e8824b4c",
   "metadata": {},
   "source": [
    "# Q6.In this exercise you will create a function named nextPrime that finds and returns the first prime number larger than some integer, n. The value of n will be passed to the function as its only parameter. Include a main program that reads an integer from the user and displays the first prime number larger than the entered value.\n"
   ]
  },
  {
   "cell_type": "code",
   "execution_count": 6,
   "id": "a648b853",
   "metadata": {},
   "outputs": [
    {
     "name": "stdout",
     "output_type": "stream",
     "text": [
      "Enter a number to find next prime number :4\n",
      "5\n"
     ]
    }
   ],
   "source": [
    "def nextprime(n):\n",
    "    p=n+1\n",
    "    for i in range(2,p):\n",
    "        if(p%i==0):\n",
    "            p=p+1\n",
    "    else:\n",
    "        print(p)\n",
    "n=int(input('Enter a number to find next prime number :'))\n",
    "nextprime(n)"
   ]
  },
  {
   "cell_type": "code",
   "execution_count": null,
   "id": "e3aa412b",
   "metadata": {},
   "outputs": [],
   "source": []
  },
  {
   "cell_type": "markdown",
   "id": "be4098fc",
   "metadata": {},
   "source": [
    "# Q7.In this exercise you will write a function that determines whether or not a password is good. We will define a good password to be a one that is at least 8 characters long and contains at least one uppercase letter, at least one lowercase letter, and at least one number. Your function should return true if the password passed to it as its only parameter is good. Otherwise it should return false. Include a main program that reads a password from the user and reports whether or not it is good.\n",
    " "
   ]
  },
  {
   "cell_type": "code",
   "execution_count": 8,
   "id": "51b07fcb",
   "metadata": {},
   "outputs": [
    {
     "name": "stdout",
     "output_type": "stream",
     "text": [
      "Enter the password: Aravindh@253\n"
     ]
    },
    {
     "data": {
      "text/plain": [
       "True"
      ]
     },
     "execution_count": 8,
     "metadata": {},
     "output_type": "execute_result"
    }
   ],
   "source": [
    "def password(pwd):\n",
    "    length = lower = upper = digit = False\n",
    "    if len(pwd) >= 8:\n",
    "        length = True\n",
    "        for letters in pwd:\n",
    "            if letters.islower():\n",
    "                lower = True\n",
    "            if letters.isupper():\n",
    "                upper = True\n",
    "            if letters.isdigit():\n",
    "                digit = True\n",
    "                \n",
    "                \n",
    "    if length and upper and lower and digit:\n",
    "        return True          \n",
    "    else:\n",
    "        return False\n",
    "pwd = input('Enter the password: ')\n",
    "password(pwd)"
   ]
  },
  {
   "cell_type": "code",
   "execution_count": null,
   "id": "d0109364",
   "metadata": {},
   "outputs": [],
   "source": []
  },
  {
   "cell_type": "markdown",
   "id": "cbb4adc8",
   "metadata": {},
   "source": [
    "# Q8.Write a program that reads values from the user until a blank line is entered. Display the total of all of the values entered by the user (or 0.0 if the first value entered is a blank line). Complete this task using recursion. Your program may not use any loops. The body of your recursive function will need to read one value from the user, and then determine whether or not to make a recursive call. Your function does not need to take any parameters, but it will need to return a numeric result.\n",
    " "
   ]
  },
  {
   "cell_type": "code",
   "execution_count": 10,
   "id": "bda2e49d",
   "metadata": {},
   "outputs": [
    {
     "name": "stdout",
     "output_type": "stream",
     "text": [
      "If you want to exit enter a blank line otherwise enter a value : 8\n",
      "If you want to exit enter a blank line otherwise enter a value : 8\n",
      "If you want to exit enter a blank line otherwise enter a value :  \n",
      "Total of all the values =  16.0\n"
     ]
    }
   ],
   "source": [
    "\n",
    "def fun():\n",
    "    n = input(\"If you want to exit enter a blank line otherwise enter a value : \")\n",
    "    if n == \" \":\n",
    "        return 0.0\n",
    "    else:\n",
    "        n = int(n)\n",
    "        return (n + fun())\n",
    "print(\"Total of all the values = \", fun())"
   ]
  },
  {
   "cell_type": "code",
   "execution_count": null,
   "id": "2ae0f747",
   "metadata": {},
   "outputs": [],
   "source": []
  },
  {
   "cell_type": "markdown",
   "id": "fe1d7691",
   "metadata": {},
   "source": [
    "# Q9.In this exercise you will write a recursive function that determines whether or not a string is a palindrome. The empty string is a palindrome, as is any string containing only one character. Any longer string is a palindrome if its first and last characters match, and if the string formed by removing the first and last characters is also a palindrome. Write a main program that reads a string from the user. Use your recursive function to determine whether or not the string is a palindrome. Then display an appropriate message for the user."
   ]
  },
  {
   "cell_type": "code",
   "execution_count": 11,
   "id": "bf16fd0c",
   "metadata": {},
   "outputs": [
    {
     "name": "stdout",
     "output_type": "stream",
     "text": [
      "Enter a string:civic\n",
      "Entered String is a palindrome!\n"
     ]
    }
   ],
   "source": [
    "def is_palindrome(s):\n",
    "    if len(s) < 1:\n",
    "        return True\n",
    "    else:\n",
    "        if s[0] == s[-1]:\n",
    "            return is_palindrome(s[1:-1])\n",
    "        else:\n",
    "            return False\n",
    "str1 = input(\"Enter a string:\")\n",
    "if(is_palindrome(str1)==True):\n",
    "    print(\"Entered String is a palindrome!\")\n",
    "else:\n",
    "    print(\"Entered String is not a palindrome!\")        \n",
    "        \n",
    " \n"
   ]
  },
  {
   "cell_type": "code",
   "execution_count": null,
   "id": "0dd2386c",
   "metadata": {},
   "outputs": [],
   "source": []
  },
  {
   "cell_type": "markdown",
   "id": "d6900f1c",
   "metadata": {},
   "source": [
    "# Q10.Write a function that takes a list of strings as its only parameter. Your function should return a string that contains all of the items in the list formatted in the manner described previously as its only result. While the examples shown previously only include lists containing four elements or less, your function should behave correctly for lists of any length. Include a main program that reads several items from the user, formats them by calling your function, and then displays the result returned by the function. Consider the following four lists:\n",
    "\n",
    "# apples\n",
    "\n",
    "# apples and oranges\n",
    "\n",
    "# apples, oranges and bananas\n",
    "\n",
    "# apples, oranges, bananas and lemons"
   ]
  },
  {
   "cell_type": "code",
   "execution_count": 12,
   "id": "7a3dab42",
   "metadata": {},
   "outputs": [
    {
     "name": "stdout",
     "output_type": "stream",
     "text": [
      "Enter the elements seperated with space :apples oranges bananas lemons\n",
      "apples, oranges, bananas and lemons\n"
     ]
    }
   ],
   "source": [
    "def formatting (lst2):\n",
    "    s = ''\n",
    "    s += lst2[0]\n",
    "    \n",
    "    for i in (lst2[1:-1]):\n",
    "    \n",
    "        s = s + ', '+ i\n",
    "    s = s + ' and ' + lst2[-1]\n",
    "    return s\n",
    "a = input(\"Enter the elements seperated with space :\")\n",
    "b= list(a.split(\" \"))\n",
    "print(formatting(b))"
   ]
  },
  {
   "cell_type": "code",
   "execution_count": null,
   "id": "9d474f3a",
   "metadata": {},
   "outputs": [],
   "source": []
  },
  {
   "cell_type": "code",
   "execution_count": null,
   "id": "bc191f83",
   "metadata": {},
   "outputs": [],
   "source": []
  },
  {
   "cell_type": "code",
   "execution_count": null,
   "id": "5c3583f6",
   "metadata": {},
   "outputs": [],
   "source": []
  }
 ],
 "metadata": {
  "kernelspec": {
   "display_name": "Python 3 (ipykernel)",
   "language": "python",
   "name": "python3"
  },
  "language_info": {
   "codemirror_mode": {
    "name": "ipython",
    "version": 3
   },
   "file_extension": ".py",
   "mimetype": "text/x-python",
   "name": "python",
   "nbconvert_exporter": "python",
   "pygments_lexer": "ipython3",
   "version": "3.9.12"
  }
 },
 "nbformat": 4,
 "nbformat_minor": 5
}
