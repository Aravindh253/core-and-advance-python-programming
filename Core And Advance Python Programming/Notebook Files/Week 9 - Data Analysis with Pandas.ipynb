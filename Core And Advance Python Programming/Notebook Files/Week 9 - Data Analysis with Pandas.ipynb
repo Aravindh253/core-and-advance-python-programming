{
 "cells": [
  {
   "cell_type": "markdown",
   "id": "099c3be2",
   "metadata": {},
   "source": [
    "# Q1.Create a data frame called DataFrame1. It should contain data about five employees. Each employee data consists of employee number, name, salary, department number and designation."
   ]
  },
  {
   "cell_type": "code",
   "execution_count": 2,
   "id": "d0f7e05e",
   "metadata": {},
   "outputs": [
    {
     "data": {
      "text/html": [
       "<div>\n",
       "<style scoped>\n",
       "    .dataframe tbody tr th:only-of-type {\n",
       "        vertical-align: middle;\n",
       "    }\n",
       "\n",
       "    .dataframe tbody tr th {\n",
       "        vertical-align: top;\n",
       "    }\n",
       "\n",
       "    .dataframe thead th {\n",
       "        text-align: right;\n",
       "    }\n",
       "</style>\n",
       "<table border=\"1\" class=\"dataframe\">\n",
       "  <thead>\n",
       "    <tr style=\"text-align: right;\">\n",
       "      <th></th>\n",
       "      <th>0</th>\n",
       "      <th>1</th>\n",
       "      <th>2</th>\n",
       "      <th>3</th>\n",
       "      <th>4</th>\n",
       "    </tr>\n",
       "  </thead>\n",
       "  <tbody>\n",
       "    <tr>\n",
       "      <th>0</th>\n",
       "      <td>Emp101</td>\n",
       "      <td>Aravindh</td>\n",
       "      <td>150000</td>\n",
       "      <td>Computer</td>\n",
       "      <td>Data Scientist</td>\n",
       "    </tr>\n",
       "    <tr>\n",
       "      <th>1</th>\n",
       "      <td>Emp102</td>\n",
       "      <td>Alekhya</td>\n",
       "      <td>38000</td>\n",
       "      <td>Marketing</td>\n",
       "      <td>Senior Manager</td>\n",
       "    </tr>\n",
       "    <tr>\n",
       "      <th>2</th>\n",
       "      <td>Emp103</td>\n",
       "      <td>Gayu</td>\n",
       "      <td>18000</td>\n",
       "      <td>Project Lead</td>\n",
       "      <td>Project Head</td>\n",
       "    </tr>\n",
       "    <tr>\n",
       "      <th>3</th>\n",
       "      <td>Emp104</td>\n",
       "      <td>Kani</td>\n",
       "      <td>21000</td>\n",
       "      <td>Project Lead</td>\n",
       "      <td>Project Senior Head</td>\n",
       "    </tr>\n",
       "    <tr>\n",
       "      <th>4</th>\n",
       "      <td>Emp105</td>\n",
       "      <td>Kavya</td>\n",
       "      <td>15000</td>\n",
       "      <td>Disposal Team</td>\n",
       "      <td>Disposal Head</td>\n",
       "    </tr>\n",
       "  </tbody>\n",
       "</table>\n",
       "</div>"
      ],
      "text/plain": [
       "        0         1       2              3                    4\n",
       "0  Emp101  Aravindh  150000       Computer       Data Scientist\n",
       "1  Emp102   Alekhya   38000      Marketing       Senior Manager\n",
       "2  Emp103      Gayu   18000   Project Lead         Project Head\n",
       "3  Emp104      Kani   21000   Project Lead  Project Senior Head\n",
       "4  Emp105     Kavya   15000  Disposal Team        Disposal Head"
      ]
     },
     "execution_count": 2,
     "metadata": {},
     "output_type": "execute_result"
    }
   ],
   "source": [
    "\n",
    "# Creating the dataframe for the Employee\n",
    "\n",
    "import pandas as pd\n",
    "DataFrame1 = pd.DataFrame([['Emp101','Aravindh',150000,'Computer','Data Scientist'],\n",
    "                           ['Emp102','Alekhya',38000,'Marketing','Senior Manager'],\n",
    "                           [ 'Emp103','Gayu',18000,'Project Lead','Project Head'],\n",
    "                           ['Emp104','Kani',21000,'Project Lead','Project Senior Head'],\n",
    "                            ['Emp105','Kavya',15000,'Disposal Team','Disposal Head']])\n",
    "                           \n",
    "                           \n",
    "DataFrame1                      "
   ]
  },
  {
   "cell_type": "code",
   "execution_count": null,
   "id": "154e8599",
   "metadata": {},
   "outputs": [],
   "source": []
  },
  {
   "cell_type": "markdown",
   "id": "3181b5ab",
   "metadata": {},
   "source": [
    "# Q2.In the DataFrame1 defined in Q.No. 1, add appropriate column names to the columns. Find the mean of the salary in the DataFrame1."
   ]
  },
  {
   "cell_type": "code",
   "execution_count": 3,
   "id": "d82d2d15",
   "metadata": {},
   "outputs": [
    {
     "name": "stdout",
     "output_type": "stream",
     "text": [
      "  Employee Number Employee Name  Salary Department Name          Designation\n",
      "0          Emp101      Aravindh  150000        Computer       Data Scientist\n",
      "1          Emp102       Alekhya   38000       Marketing       Senior Manager\n",
      "2          Emp103          Gayu   18000    Project Lead         Project Head\n",
      "3          Emp104          Kani   21000    Project Lead  Project Senior Head\n",
      "4          Emp105         Kavya   15000   Disposal Team        Disposal Head\n",
      "\n",
      "Mean of the Employee Salary :  48400.0\n"
     ]
    }
   ],
   "source": [
    "DataFrame1.columns = ['Employee Number','Employee Name','Salary','Department Name','Designation']\n",
    "print(DataFrame1)\n",
    "print(\"\\nMean of the Employee Salary : \",DataFrame1.Salary.mean())"
   ]
  },
  {
   "cell_type": "code",
   "execution_count": null,
   "id": "db6ba5f3",
   "metadata": {},
   "outputs": [],
   "source": []
  },
  {
   "cell_type": "markdown",
   "id": "187b92cc",
   "metadata": {},
   "source": [
    "# Q3.Create a dictionary called dept. In this dictionary, the columns are deptno, deptname and location. Create a data frame called DataFrame2 from the dictionary dept."
   ]
  },
  {
   "cell_type": "code",
   "execution_count": 4,
   "id": "8f1439be",
   "metadata": {},
   "outputs": [
    {
     "data": {
      "text/html": [
       "<div>\n",
       "<style scoped>\n",
       "    .dataframe tbody tr th:only-of-type {\n",
       "        vertical-align: middle;\n",
       "    }\n",
       "\n",
       "    .dataframe tbody tr th {\n",
       "        vertical-align: top;\n",
       "    }\n",
       "\n",
       "    .dataframe thead th {\n",
       "        text-align: right;\n",
       "    }\n",
       "</style>\n",
       "<table border=\"1\" class=\"dataframe\">\n",
       "  <thead>\n",
       "    <tr style=\"text-align: right;\">\n",
       "      <th></th>\n",
       "      <th>Department  Number</th>\n",
       "      <th>Department Name</th>\n",
       "      <th>Location</th>\n",
       "    </tr>\n",
       "  </thead>\n",
       "  <tbody>\n",
       "    <tr>\n",
       "      <th>0</th>\n",
       "      <td>dp101</td>\n",
       "      <td>Computer</td>\n",
       "      <td>USA</td>\n",
       "    </tr>\n",
       "    <tr>\n",
       "      <th>1</th>\n",
       "      <td>dp102</td>\n",
       "      <td>Marketing</td>\n",
       "      <td>Chennai</td>\n",
       "    </tr>\n",
       "    <tr>\n",
       "      <th>2</th>\n",
       "      <td>dp103</td>\n",
       "      <td>Project Lead</td>\n",
       "      <td>Erode</td>\n",
       "    </tr>\n",
       "  </tbody>\n",
       "</table>\n",
       "</div>"
      ],
      "text/plain": [
       "  Department  Number Department Name Location\n",
       "0              dp101        Computer      USA\n",
       "1              dp102       Marketing  Chennai\n",
       "2              dp103    Project Lead    Erode"
      ]
     },
     "execution_count": 4,
     "metadata": {},
     "output_type": "execute_result"
    }
   ],
   "source": [
    "dept ={'Department  Number' : ('dp101','dp102','dp103'),\n",
    "       'Department Name' : ('Computer','Marketing','Project Lead'),\n",
    "        'Location' : ('USA','Chennai','Erode')}\n",
    "DataFrame2 = pd.DataFrame(dept)\n",
    "DataFrame2\n"
   ]
  },
  {
   "cell_type": "code",
   "execution_count": null,
   "id": "59b3a039",
   "metadata": {},
   "outputs": [],
   "source": []
  },
  {
   "cell_type": "markdown",
   "id": "ee71e2bc",
   "metadata": {},
   "source": [
    "# Q4.Consider a sales.csv file with the following data:\n",
    "\n",
    "# Dinesh 7800 6500  4590\n",
    "# Mahesh 8900          3790\n",
    "# Ramesh10800 2300\n",
    "# Suresh  5600 6790 2300\n",
    "# Basha  7600 2300 2400\n",
    "#  The data represents salesman name and sales in three regions: region1, region2 and region3. Load sles.csv into a data frame called DataFrame3. Give appropriate column names to the columns in DataFrame3. Display the contents of DataFrame3.\n",
    "\n",
    "\n",
    "\n"
   ]
  },
  {
   "cell_type": "code",
   "execution_count": 5,
   "id": "1ba24861",
   "metadata": {},
   "outputs": [
    {
     "data": {
      "text/html": [
       "<div>\n",
       "<style scoped>\n",
       "    .dataframe tbody tr th:only-of-type {\n",
       "        vertical-align: middle;\n",
       "    }\n",
       "\n",
       "    .dataframe tbody tr th {\n",
       "        vertical-align: top;\n",
       "    }\n",
       "\n",
       "    .dataframe thead th {\n",
       "        text-align: right;\n",
       "    }\n",
       "</style>\n",
       "<table border=\"1\" class=\"dataframe\">\n",
       "  <thead>\n",
       "    <tr style=\"text-align: right;\">\n",
       "      <th></th>\n",
       "      <th>Salesman</th>\n",
       "      <th>region1</th>\n",
       "      <th>region2</th>\n",
       "      <th>region3</th>\n",
       "    </tr>\n",
       "  </thead>\n",
       "  <tbody>\n",
       "    <tr>\n",
       "      <th>0</th>\n",
       "      <td>Dinesh</td>\n",
       "      <td>7800</td>\n",
       "      <td>6500.0</td>\n",
       "      <td>4590.0</td>\n",
       "    </tr>\n",
       "    <tr>\n",
       "      <th>1</th>\n",
       "      <td>Mahesh</td>\n",
       "      <td>8900</td>\n",
       "      <td>NaN</td>\n",
       "      <td>3790.0</td>\n",
       "    </tr>\n",
       "    <tr>\n",
       "      <th>2</th>\n",
       "      <td>Ramesh</td>\n",
       "      <td>10800</td>\n",
       "      <td>2300.0</td>\n",
       "      <td>NaN</td>\n",
       "    </tr>\n",
       "    <tr>\n",
       "      <th>3</th>\n",
       "      <td>Suresh</td>\n",
       "      <td>5600</td>\n",
       "      <td>6790.0</td>\n",
       "      <td>2300.0</td>\n",
       "    </tr>\n",
       "    <tr>\n",
       "      <th>4</th>\n",
       "      <td>Basha</td>\n",
       "      <td>7600</td>\n",
       "      <td>2300.0</td>\n",
       "      <td>2400.0</td>\n",
       "    </tr>\n",
       "  </tbody>\n",
       "</table>\n",
       "</div>"
      ],
      "text/plain": [
       "  Salesman  region1  region2  region3\n",
       "0   Dinesh     7800   6500.0   4590.0\n",
       "1   Mahesh     8900      NaN   3790.0\n",
       "2   Ramesh    10800   2300.0      NaN\n",
       "3   Suresh     5600   6790.0   2300.0\n",
       "4    Basha     7600   2300.0   2400.0"
      ]
     },
     "execution_count": 5,
     "metadata": {},
     "output_type": "execute_result"
    }
   ],
   "source": [
    "import pandas as pd\n",
    "DataFrame3 = pd.read_csv('.\\\\sales.csv',header = None, names=['Salesman','region1','region2','region3'])\n",
    "DataFrame3"
   ]
  },
  {
   "cell_type": "code",
   "execution_count": null,
   "id": "0fbdf643",
   "metadata": {},
   "outputs": [],
   "source": []
  },
  {
   "cell_type": "markdown",
   "id": "d98cd10d",
   "metadata": {},
   "source": [
    "# Q5.In this exercise, demonstrate different methods of handling missing data in data frames. For reference, consider the DataFrame3 created in Q.No. 4. In DataFrame3, do the following: fill missing values with zeroes, fill missing values with the mean of their respective column, drop the rows containing missing values, drop the columns containing missing values."
   ]
  },
  {
   "cell_type": "code",
   "execution_count": 6,
   "id": "742851c9",
   "metadata": {},
   "outputs": [
    {
     "data": {
      "text/html": [
       "<div>\n",
       "<style scoped>\n",
       "    .dataframe tbody tr th:only-of-type {\n",
       "        vertical-align: middle;\n",
       "    }\n",
       "\n",
       "    .dataframe tbody tr th {\n",
       "        vertical-align: top;\n",
       "    }\n",
       "\n",
       "    .dataframe thead th {\n",
       "        text-align: right;\n",
       "    }\n",
       "</style>\n",
       "<table border=\"1\" class=\"dataframe\">\n",
       "  <thead>\n",
       "    <tr style=\"text-align: right;\">\n",
       "      <th></th>\n",
       "      <th>Salesman</th>\n",
       "      <th>region1</th>\n",
       "      <th>region2</th>\n",
       "      <th>region3</th>\n",
       "    </tr>\n",
       "  </thead>\n",
       "  <tbody>\n",
       "    <tr>\n",
       "      <th>0</th>\n",
       "      <td>Dinesh</td>\n",
       "      <td>7800</td>\n",
       "      <td>6500.0</td>\n",
       "      <td>4590.0</td>\n",
       "    </tr>\n",
       "    <tr>\n",
       "      <th>1</th>\n",
       "      <td>Mahesh</td>\n",
       "      <td>8900</td>\n",
       "      <td>0.0</td>\n",
       "      <td>3790.0</td>\n",
       "    </tr>\n",
       "    <tr>\n",
       "      <th>2</th>\n",
       "      <td>Ramesh</td>\n",
       "      <td>10800</td>\n",
       "      <td>2300.0</td>\n",
       "      <td>0.0</td>\n",
       "    </tr>\n",
       "    <tr>\n",
       "      <th>3</th>\n",
       "      <td>Suresh</td>\n",
       "      <td>5600</td>\n",
       "      <td>6790.0</td>\n",
       "      <td>2300.0</td>\n",
       "    </tr>\n",
       "    <tr>\n",
       "      <th>4</th>\n",
       "      <td>Basha</td>\n",
       "      <td>7600</td>\n",
       "      <td>2300.0</td>\n",
       "      <td>2400.0</td>\n",
       "    </tr>\n",
       "  </tbody>\n",
       "</table>\n",
       "</div>"
      ],
      "text/plain": [
       "  Salesman  region1  region2  region3\n",
       "0   Dinesh     7800   6500.0   4590.0\n",
       "1   Mahesh     8900      0.0   3790.0\n",
       "2   Ramesh    10800   2300.0      0.0\n",
       "3   Suresh     5600   6790.0   2300.0\n",
       "4    Basha     7600   2300.0   2400.0"
      ]
     },
     "execution_count": 6,
     "metadata": {},
     "output_type": "execute_result"
    }
   ],
   "source": [
    "# Missing Values with zeros\n",
    "DataFrame3.fillna(0)"
   ]
  },
  {
   "cell_type": "code",
   "execution_count": 7,
   "id": "42f9d3ab",
   "metadata": {},
   "outputs": [
    {
     "name": "stderr",
     "output_type": "stream",
     "text": [
      "C:\\Users\\91830\\AppData\\Local\\Temp\\ipykernel_15496\\1908689748.py:2: FutureWarning: Dropping of nuisance columns in DataFrame reductions (with 'numeric_only=None') is deprecated; in a future version this will raise TypeError.  Select only valid columns before calling the reduction.\n",
      "  DataFrame3.fillna(DataFrame3[:].mean())\n"
     ]
    },
    {
     "data": {
      "text/html": [
       "<div>\n",
       "<style scoped>\n",
       "    .dataframe tbody tr th:only-of-type {\n",
       "        vertical-align: middle;\n",
       "    }\n",
       "\n",
       "    .dataframe tbody tr th {\n",
       "        vertical-align: top;\n",
       "    }\n",
       "\n",
       "    .dataframe thead th {\n",
       "        text-align: right;\n",
       "    }\n",
       "</style>\n",
       "<table border=\"1\" class=\"dataframe\">\n",
       "  <thead>\n",
       "    <tr style=\"text-align: right;\">\n",
       "      <th></th>\n",
       "      <th>Salesman</th>\n",
       "      <th>region1</th>\n",
       "      <th>region2</th>\n",
       "      <th>region3</th>\n",
       "    </tr>\n",
       "  </thead>\n",
       "  <tbody>\n",
       "    <tr>\n",
       "      <th>0</th>\n",
       "      <td>Dinesh</td>\n",
       "      <td>7800</td>\n",
       "      <td>6500.0</td>\n",
       "      <td>4590.0</td>\n",
       "    </tr>\n",
       "    <tr>\n",
       "      <th>1</th>\n",
       "      <td>Mahesh</td>\n",
       "      <td>8900</td>\n",
       "      <td>4472.5</td>\n",
       "      <td>3790.0</td>\n",
       "    </tr>\n",
       "    <tr>\n",
       "      <th>2</th>\n",
       "      <td>Ramesh</td>\n",
       "      <td>10800</td>\n",
       "      <td>2300.0</td>\n",
       "      <td>3270.0</td>\n",
       "    </tr>\n",
       "    <tr>\n",
       "      <th>3</th>\n",
       "      <td>Suresh</td>\n",
       "      <td>5600</td>\n",
       "      <td>6790.0</td>\n",
       "      <td>2300.0</td>\n",
       "    </tr>\n",
       "    <tr>\n",
       "      <th>4</th>\n",
       "      <td>Basha</td>\n",
       "      <td>7600</td>\n",
       "      <td>2300.0</td>\n",
       "      <td>2400.0</td>\n",
       "    </tr>\n",
       "  </tbody>\n",
       "</table>\n",
       "</div>"
      ],
      "text/plain": [
       "  Salesman  region1  region2  region3\n",
       "0   Dinesh     7800   6500.0   4590.0\n",
       "1   Mahesh     8900   4472.5   3790.0\n",
       "2   Ramesh    10800   2300.0   3270.0\n",
       "3   Suresh     5600   6790.0   2300.0\n",
       "4    Basha     7600   2300.0   2400.0"
      ]
     },
     "execution_count": 7,
     "metadata": {},
     "output_type": "execute_result"
    }
   ],
   "source": [
    "# Fill Missing Values with the mean of their respective columns\n",
    "DataFrame3.fillna(DataFrame3[:].mean())"
   ]
  },
  {
   "cell_type": "code",
   "execution_count": 8,
   "id": "7ee50e39",
   "metadata": {},
   "outputs": [
    {
     "data": {
      "text/plain": [
       "0     7800\n",
       "1     8900\n",
       "2    10800\n",
       "3     5600\n",
       "4     7600\n",
       "Name: region1, dtype: int64"
      ]
     },
     "execution_count": 8,
     "metadata": {},
     "output_type": "execute_result"
    }
   ],
   "source": [
    "DataFrame3['region1'].fillna(DataFrame3['region1'].mean())"
   ]
  },
  {
   "cell_type": "code",
   "execution_count": 9,
   "id": "a64123f0",
   "metadata": {},
   "outputs": [
    {
     "data": {
      "text/plain": [
       "0    6500.0\n",
       "1    4472.5\n",
       "2    2300.0\n",
       "3    6790.0\n",
       "4    2300.0\n",
       "Name: region2, dtype: float64"
      ]
     },
     "execution_count": 9,
     "metadata": {},
     "output_type": "execute_result"
    }
   ],
   "source": [
    "DataFrame3['region2'].fillna(DataFrame3['region2'].mean())"
   ]
  },
  {
   "cell_type": "code",
   "execution_count": 10,
   "id": "8b86576b",
   "metadata": {},
   "outputs": [
    {
     "data": {
      "text/plain": [
       "0    4590.0\n",
       "1    3790.0\n",
       "2    3270.0\n",
       "3    2300.0\n",
       "4    2400.0\n",
       "Name: region3, dtype: float64"
      ]
     },
     "execution_count": 10,
     "metadata": {},
     "output_type": "execute_result"
    }
   ],
   "source": [
    "DataFrame3['region3'].fillna(DataFrame3['region3'].mean())"
   ]
  },
  {
   "cell_type": "code",
   "execution_count": 11,
   "id": "560cf255",
   "metadata": {},
   "outputs": [
    {
     "data": {
      "text/html": [
       "<div>\n",
       "<style scoped>\n",
       "    .dataframe tbody tr th:only-of-type {\n",
       "        vertical-align: middle;\n",
       "    }\n",
       "\n",
       "    .dataframe tbody tr th {\n",
       "        vertical-align: top;\n",
       "    }\n",
       "\n",
       "    .dataframe thead th {\n",
       "        text-align: right;\n",
       "    }\n",
       "</style>\n",
       "<table border=\"1\" class=\"dataframe\">\n",
       "  <thead>\n",
       "    <tr style=\"text-align: right;\">\n",
       "      <th></th>\n",
       "      <th>Salesman</th>\n",
       "      <th>region1</th>\n",
       "      <th>region2</th>\n",
       "      <th>region3</th>\n",
       "    </tr>\n",
       "  </thead>\n",
       "  <tbody>\n",
       "    <tr>\n",
       "      <th>0</th>\n",
       "      <td>Dinesh</td>\n",
       "      <td>7800</td>\n",
       "      <td>6500.0</td>\n",
       "      <td>4590.0</td>\n",
       "    </tr>\n",
       "    <tr>\n",
       "      <th>3</th>\n",
       "      <td>Suresh</td>\n",
       "      <td>5600</td>\n",
       "      <td>6790.0</td>\n",
       "      <td>2300.0</td>\n",
       "    </tr>\n",
       "    <tr>\n",
       "      <th>4</th>\n",
       "      <td>Basha</td>\n",
       "      <td>7600</td>\n",
       "      <td>2300.0</td>\n",
       "      <td>2400.0</td>\n",
       "    </tr>\n",
       "  </tbody>\n",
       "</table>\n",
       "</div>"
      ],
      "text/plain": [
       "  Salesman  region1  region2  region3\n",
       "0   Dinesh     7800   6500.0   4590.0\n",
       "3   Suresh     5600   6790.0   2300.0\n",
       "4    Basha     7600   2300.0   2400.0"
      ]
     },
     "execution_count": 11,
     "metadata": {},
     "output_type": "execute_result"
    }
   ],
   "source": [
    "# Drop the rows containing mising Values\n",
    "DataFrame3.dropna()"
   ]
  },
  {
   "cell_type": "code",
   "execution_count": 12,
   "id": "7babeba7",
   "metadata": {},
   "outputs": [
    {
     "data": {
      "text/html": [
       "<div>\n",
       "<style scoped>\n",
       "    .dataframe tbody tr th:only-of-type {\n",
       "        vertical-align: middle;\n",
       "    }\n",
       "\n",
       "    .dataframe tbody tr th {\n",
       "        vertical-align: top;\n",
       "    }\n",
       "\n",
       "    .dataframe thead th {\n",
       "        text-align: right;\n",
       "    }\n",
       "</style>\n",
       "<table border=\"1\" class=\"dataframe\">\n",
       "  <thead>\n",
       "    <tr style=\"text-align: right;\">\n",
       "      <th></th>\n",
       "      <th>Salesman</th>\n",
       "      <th>region1</th>\n",
       "    </tr>\n",
       "  </thead>\n",
       "  <tbody>\n",
       "    <tr>\n",
       "      <th>0</th>\n",
       "      <td>Dinesh</td>\n",
       "      <td>7800</td>\n",
       "    </tr>\n",
       "    <tr>\n",
       "      <th>1</th>\n",
       "      <td>Mahesh</td>\n",
       "      <td>8900</td>\n",
       "    </tr>\n",
       "    <tr>\n",
       "      <th>2</th>\n",
       "      <td>Ramesh</td>\n",
       "      <td>10800</td>\n",
       "    </tr>\n",
       "    <tr>\n",
       "      <th>3</th>\n",
       "      <td>Suresh</td>\n",
       "      <td>5600</td>\n",
       "    </tr>\n",
       "    <tr>\n",
       "      <th>4</th>\n",
       "      <td>Basha</td>\n",
       "      <td>7600</td>\n",
       "    </tr>\n",
       "  </tbody>\n",
       "</table>\n",
       "</div>"
      ],
      "text/plain": [
       "  Salesman  region1\n",
       "0   Dinesh     7800\n",
       "1   Mahesh     8900\n",
       "2   Ramesh    10800\n",
       "3   Suresh     5600\n",
       "4    Basha     7600"
      ]
     },
     "execution_count": 12,
     "metadata": {},
     "output_type": "execute_result"
    }
   ],
   "source": [
    "# Drop the columns containing missing values\n",
    "DataFrame3.dropna(axis=1)"
   ]
  },
  {
   "cell_type": "code",
   "execution_count": null,
   "id": "351d803b",
   "metadata": {},
   "outputs": [],
   "source": []
  },
  {
   "cell_type": "markdown",
   "id": "5fd0461b",
   "metadata": {},
   "source": [
    "# Q6.From DataFrame1 create a new data frame called DataFrame4. In DataFrame4, set the employee number as an in-place index. Display data from the 3rd row and 4th column using label-based and integer-based indexing."
   ]
  },
  {
   "cell_type": "code",
   "execution_count": 13,
   "id": "46ab3279",
   "metadata": {},
   "outputs": [
    {
     "data": {
      "text/html": [
       "<div>\n",
       "<style scoped>\n",
       "    .dataframe tbody tr th:only-of-type {\n",
       "        vertical-align: middle;\n",
       "    }\n",
       "\n",
       "    .dataframe tbody tr th {\n",
       "        vertical-align: top;\n",
       "    }\n",
       "\n",
       "    .dataframe thead th {\n",
       "        text-align: right;\n",
       "    }\n",
       "</style>\n",
       "<table border=\"1\" class=\"dataframe\">\n",
       "  <thead>\n",
       "    <tr style=\"text-align: right;\">\n",
       "      <th></th>\n",
       "      <th>Employee Name</th>\n",
       "      <th>Salary</th>\n",
       "      <th>Department Name</th>\n",
       "      <th>Designation</th>\n",
       "    </tr>\n",
       "    <tr>\n",
       "      <th>Employee Number</th>\n",
       "      <th></th>\n",
       "      <th></th>\n",
       "      <th></th>\n",
       "      <th></th>\n",
       "    </tr>\n",
       "  </thead>\n",
       "  <tbody>\n",
       "    <tr>\n",
       "      <th>Emp101</th>\n",
       "      <td>Aravindh</td>\n",
       "      <td>150000</td>\n",
       "      <td>Computer</td>\n",
       "      <td>Data Scientist</td>\n",
       "    </tr>\n",
       "    <tr>\n",
       "      <th>Emp102</th>\n",
       "      <td>Alekhya</td>\n",
       "      <td>38000</td>\n",
       "      <td>Marketing</td>\n",
       "      <td>Senior Manager</td>\n",
       "    </tr>\n",
       "    <tr>\n",
       "      <th>Emp103</th>\n",
       "      <td>Gayu</td>\n",
       "      <td>18000</td>\n",
       "      <td>Project Lead</td>\n",
       "      <td>Project Head</td>\n",
       "    </tr>\n",
       "    <tr>\n",
       "      <th>Emp104</th>\n",
       "      <td>Kani</td>\n",
       "      <td>21000</td>\n",
       "      <td>Project Lead</td>\n",
       "      <td>Project Senior Head</td>\n",
       "    </tr>\n",
       "    <tr>\n",
       "      <th>Emp105</th>\n",
       "      <td>Kavya</td>\n",
       "      <td>15000</td>\n",
       "      <td>Disposal Team</td>\n",
       "      <td>Disposal Head</td>\n",
       "    </tr>\n",
       "  </tbody>\n",
       "</table>\n",
       "</div>"
      ],
      "text/plain": [
       "                Employee Name  Salary Department Name          Designation\n",
       "Employee Number                                                           \n",
       "Emp101               Aravindh  150000        Computer       Data Scientist\n",
       "Emp102                Alekhya   38000       Marketing       Senior Manager\n",
       "Emp103                   Gayu   18000    Project Lead         Project Head\n",
       "Emp104                   Kani   21000    Project Lead  Project Senior Head\n",
       "Emp105                  Kavya   15000   Disposal Team        Disposal Head"
      ]
     },
     "execution_count": 13,
     "metadata": {},
     "output_type": "execute_result"
    }
   ],
   "source": [
    "\n",
    "DataFrame4 = DataFrame1\n",
    "DataFrame4.set_index('Employee Number',inplace=True)\n",
    "DataFrame4"
   ]
  },
  {
   "cell_type": "code",
   "execution_count": 14,
   "id": "8c5d308a",
   "metadata": {},
   "outputs": [
    {
     "data": {
      "text/plain": [
       "'Project Head'"
      ]
     },
     "execution_count": 14,
     "metadata": {},
     "output_type": "execute_result"
    }
   ],
   "source": [
    "#Using Label based Index\n",
    "DataFrame4.loc['Emp103','Designation']"
   ]
  },
  {
   "cell_type": "code",
   "execution_count": 15,
   "id": "cbdf0dbc",
   "metadata": {},
   "outputs": [
    {
     "data": {
      "text/plain": [
       "'Project Head'"
      ]
     },
     "execution_count": 15,
     "metadata": {},
     "output_type": "execute_result"
    }
   ],
   "source": [
    "# Using Integer basd Index\n",
    "DataFrame4.iloc[2,3]"
   ]
  },
  {
   "cell_type": "code",
   "execution_count": null,
   "id": "8364ca4d",
   "metadata": {},
   "outputs": [],
   "source": []
  },
  {
   "cell_type": "markdown",
   "id": "58a4c73e",
   "metadata": {},
   "source": [
    "# Q7.In DataFrame3 created in Q.No. 5, find the salesmen whose sales are greater than 7000 in region1 but less than 3000 in region2"
   ]
  },
  {
   "cell_type": "code",
   "execution_count": 16,
   "id": "07f3dd83",
   "metadata": {},
   "outputs": [
    {
     "data": {
      "text/html": [
       "<div>\n",
       "<style scoped>\n",
       "    .dataframe tbody tr th:only-of-type {\n",
       "        vertical-align: middle;\n",
       "    }\n",
       "\n",
       "    .dataframe tbody tr th {\n",
       "        vertical-align: top;\n",
       "    }\n",
       "\n",
       "    .dataframe thead th {\n",
       "        text-align: right;\n",
       "    }\n",
       "</style>\n",
       "<table border=\"1\" class=\"dataframe\">\n",
       "  <thead>\n",
       "    <tr style=\"text-align: right;\">\n",
       "      <th></th>\n",
       "      <th>Salesman</th>\n",
       "      <th>region1</th>\n",
       "      <th>region2</th>\n",
       "      <th>region3</th>\n",
       "    </tr>\n",
       "  </thead>\n",
       "  <tbody>\n",
       "    <tr>\n",
       "      <th>2</th>\n",
       "      <td>Ramesh</td>\n",
       "      <td>10800</td>\n",
       "      <td>2300.0</td>\n",
       "      <td>NaN</td>\n",
       "    </tr>\n",
       "    <tr>\n",
       "      <th>4</th>\n",
       "      <td>Basha</td>\n",
       "      <td>7600</td>\n",
       "      <td>2300.0</td>\n",
       "      <td>2400.0</td>\n",
       "    </tr>\n",
       "  </tbody>\n",
       "</table>\n",
       "</div>"
      ],
      "text/plain": [
       "  Salesman  region1  region2  region3\n",
       "2   Ramesh    10800   2300.0      NaN\n",
       "4    Basha     7600   2300.0   2400.0"
      ]
     },
     "execution_count": 16,
     "metadata": {},
     "output_type": "execute_result"
    }
   ],
   "source": [
    "# using Boolean index\n",
    "DataFrame3[(DataFrame3['region1'] > 7000) & (DataFrame3['region2'] < 3000)]\n"
   ]
  },
  {
   "cell_type": "code",
   "execution_count": null,
   "id": "88efc5b2",
   "metadata": {},
   "outputs": [],
   "source": []
  },
  {
   "cell_type": "markdown",
   "id": "4d2ed4f8",
   "metadata": {},
   "source": [
    "# Q8.In DataFrame1 created in Q. No. 1, find the employees with the highest salary in each department. Use the group by clause and the max() function. Similarly, in DataFrame3 created in Q. No. 5, find the salesman with the highest amount of sales for each region."
   ]
  },
  {
   "cell_type": "code",
   "execution_count": 17,
   "id": "9f72ab89",
   "metadata": {},
   "outputs": [
    {
     "data": {
      "text/plain": [
       "Department Name\n",
       "Computer         150000\n",
       "Disposal Team     15000\n",
       "Marketing         38000\n",
       "Project Lead      21000\n",
       "Name: Salary, dtype: int64"
      ]
     },
     "execution_count": 17,
     "metadata": {},
     "output_type": "execute_result"
    }
   ],
   "source": [
    "DataFrame1\n",
    "\n",
    "DataFrame1.groupby(['Department Name']).max()['Salary']"
   ]
  },
  {
   "cell_type": "code",
   "execution_count": 19,
   "id": "f875d699",
   "metadata": {},
   "outputs": [
    {
     "data": {
      "text/html": [
       "<div>\n",
       "<style scoped>\n",
       "    .dataframe tbody tr th:only-of-type {\n",
       "        vertical-align: middle;\n",
       "    }\n",
       "\n",
       "    .dataframe tbody tr th {\n",
       "        vertical-align: top;\n",
       "    }\n",
       "\n",
       "    .dataframe thead th {\n",
       "        text-align: right;\n",
       "    }\n",
       "</style>\n",
       "<table border=\"1\" class=\"dataframe\">\n",
       "  <thead>\n",
       "    <tr style=\"text-align: right;\">\n",
       "      <th></th>\n",
       "      <th>region1</th>\n",
       "      <th>region2</th>\n",
       "      <th>region3</th>\n",
       "    </tr>\n",
       "    <tr>\n",
       "      <th>Salesman</th>\n",
       "      <th></th>\n",
       "      <th></th>\n",
       "      <th></th>\n",
       "    </tr>\n",
       "  </thead>\n",
       "  <tbody>\n",
       "    <tr>\n",
       "      <th>Basha</th>\n",
       "      <td>7600</td>\n",
       "      <td>2300.0</td>\n",
       "      <td>2400.0</td>\n",
       "    </tr>\n",
       "    <tr>\n",
       "      <th>Dinesh</th>\n",
       "      <td>7800</td>\n",
       "      <td>6500.0</td>\n",
       "      <td>4590.0</td>\n",
       "    </tr>\n",
       "    <tr>\n",
       "      <th>Mahesh</th>\n",
       "      <td>8900</td>\n",
       "      <td>NaN</td>\n",
       "      <td>3790.0</td>\n",
       "    </tr>\n",
       "    <tr>\n",
       "      <th>Ramesh</th>\n",
       "      <td>10800</td>\n",
       "      <td>2300.0</td>\n",
       "      <td>NaN</td>\n",
       "    </tr>\n",
       "    <tr>\n",
       "      <th>Suresh</th>\n",
       "      <td>5600</td>\n",
       "      <td>6790.0</td>\n",
       "      <td>2300.0</td>\n",
       "    </tr>\n",
       "  </tbody>\n",
       "</table>\n",
       "</div>"
      ],
      "text/plain": [
       "          region1  region2  region3\n",
       "Salesman                           \n",
       "Basha        7600   2300.0   2400.0\n",
       "Dinesh       7800   6500.0   4590.0\n",
       "Mahesh       8900      NaN   3790.0\n",
       "Ramesh      10800   2300.0      NaN\n",
       "Suresh       5600   6790.0   2300.0"
      ]
     },
     "execution_count": 19,
     "metadata": {},
     "output_type": "execute_result"
    }
   ],
   "source": [
    "\n",
    "DataFrame3.groupby(['Salesman']).max()"
   ]
  },
  {
   "cell_type": "code",
   "execution_count": 20,
   "id": "df650178",
   "metadata": {},
   "outputs": [
    {
     "data": {
      "text/plain": [
       "Salesman\n",
       "Basha      7600\n",
       "Dinesh     7800\n",
       "Mahesh     8900\n",
       "Ramesh    10800\n",
       "Suresh     5600\n",
       "Name: region1, dtype: int64"
      ]
     },
     "execution_count": 20,
     "metadata": {},
     "output_type": "execute_result"
    }
   ],
   "source": [
    "\n",
    "DataFrame3.groupby(['Salesman']).max()['region1']"
   ]
  },
  {
   "cell_type": "code",
   "execution_count": 21,
   "id": "52f04570",
   "metadata": {},
   "outputs": [
    {
     "data": {
      "text/plain": [
       "Salesman\n",
       "Basha     2300.0\n",
       "Dinesh    6500.0\n",
       "Mahesh       NaN\n",
       "Ramesh    2300.0\n",
       "Suresh    6790.0\n",
       "Name: region2, dtype: float64"
      ]
     },
     "execution_count": 21,
     "metadata": {},
     "output_type": "execute_result"
    }
   ],
   "source": [
    "DataFrame3.groupby(['Salesman']).max()['region2']"
   ]
  },
  {
   "cell_type": "code",
   "execution_count": 22,
   "id": "93546ee3",
   "metadata": {},
   "outputs": [
    {
     "data": {
      "text/plain": [
       "Salesman\n",
       "Basha     2400.0\n",
       "Dinesh    4590.0\n",
       "Mahesh    3790.0\n",
       "Ramesh       NaN\n",
       "Suresh    2300.0\n",
       "Name: region3, dtype: float64"
      ]
     },
     "execution_count": 22,
     "metadata": {},
     "output_type": "execute_result"
    }
   ],
   "source": [
    "DataFrame3.groupby(['Salesman']).max()['region3']"
   ]
  },
  {
   "cell_type": "code",
   "execution_count": null,
   "id": "42a19e2d",
   "metadata": {},
   "outputs": [],
   "source": []
  },
  {
   "cell_type": "markdown",
   "id": "cf0f50d0",
   "metadata": {},
   "source": [
    "# Q9.In DataFrame1 created in Q. No. 1, add a new column called Address. In this new column, set the value as ‘Chennai’ for all the existing rows\n"
   ]
  },
  {
   "cell_type": "code",
   "execution_count": 18,
   "id": "b77906e2",
   "metadata": {},
   "outputs": [
    {
     "data": {
      "text/html": [
       "<div>\n",
       "<style scoped>\n",
       "    .dataframe tbody tr th:only-of-type {\n",
       "        vertical-align: middle;\n",
       "    }\n",
       "\n",
       "    .dataframe tbody tr th {\n",
       "        vertical-align: top;\n",
       "    }\n",
       "\n",
       "    .dataframe thead th {\n",
       "        text-align: right;\n",
       "    }\n",
       "</style>\n",
       "<table border=\"1\" class=\"dataframe\">\n",
       "  <thead>\n",
       "    <tr style=\"text-align: right;\">\n",
       "      <th></th>\n",
       "      <th>Employee Name</th>\n",
       "      <th>Salary</th>\n",
       "      <th>Department Name</th>\n",
       "      <th>Designation</th>\n",
       "      <th>Address</th>\n",
       "    </tr>\n",
       "    <tr>\n",
       "      <th>Employee Number</th>\n",
       "      <th></th>\n",
       "      <th></th>\n",
       "      <th></th>\n",
       "      <th></th>\n",
       "      <th></th>\n",
       "    </tr>\n",
       "  </thead>\n",
       "  <tbody>\n",
       "    <tr>\n",
       "      <th>Emp101</th>\n",
       "      <td>Aravindh</td>\n",
       "      <td>150000</td>\n",
       "      <td>Computer</td>\n",
       "      <td>Data Scientist</td>\n",
       "      <td>Chennai</td>\n",
       "    </tr>\n",
       "    <tr>\n",
       "      <th>Emp102</th>\n",
       "      <td>Alekhya</td>\n",
       "      <td>38000</td>\n",
       "      <td>Marketing</td>\n",
       "      <td>Senior Manager</td>\n",
       "      <td>Chennai</td>\n",
       "    </tr>\n",
       "    <tr>\n",
       "      <th>Emp103</th>\n",
       "      <td>Gayu</td>\n",
       "      <td>18000</td>\n",
       "      <td>Project Lead</td>\n",
       "      <td>Project Head</td>\n",
       "      <td>Chennai</td>\n",
       "    </tr>\n",
       "    <tr>\n",
       "      <th>Emp104</th>\n",
       "      <td>Kani</td>\n",
       "      <td>21000</td>\n",
       "      <td>Project Lead</td>\n",
       "      <td>Project Senior Head</td>\n",
       "      <td>Chennai</td>\n",
       "    </tr>\n",
       "    <tr>\n",
       "      <th>Emp105</th>\n",
       "      <td>Kavya</td>\n",
       "      <td>15000</td>\n",
       "      <td>Disposal Team</td>\n",
       "      <td>Disposal Head</td>\n",
       "      <td>Chennai</td>\n",
       "    </tr>\n",
       "  </tbody>\n",
       "</table>\n",
       "</div>"
      ],
      "text/plain": [
       "                Employee Name  Salary Department Name          Designation  \\\n",
       "Employee Number                                                              \n",
       "Emp101               Aravindh  150000        Computer       Data Scientist   \n",
       "Emp102                Alekhya   38000       Marketing       Senior Manager   \n",
       "Emp103                   Gayu   18000    Project Lead         Project Head   \n",
       "Emp104                   Kani   21000    Project Lead  Project Senior Head   \n",
       "Emp105                  Kavya   15000   Disposal Team        Disposal Head   \n",
       "\n",
       "                 Address  \n",
       "Employee Number           \n",
       "Emp101           Chennai  \n",
       "Emp102           Chennai  \n",
       "Emp103           Chennai  \n",
       "Emp104           Chennai  \n",
       "Emp105           Chennai  "
      ]
     },
     "execution_count": 18,
     "metadata": {},
     "output_type": "execute_result"
    }
   ],
   "source": [
    "DataFrame1['Address'] =DataFrame1.shape[0]*['Chennai']\n",
    "DataFrame1"
   ]
  },
  {
   "cell_type": "code",
   "execution_count": null,
   "id": "50b7b84a",
   "metadata": {},
   "outputs": [],
   "source": []
  },
  {
   "cell_type": "markdown",
   "id": "b4d06e63",
   "metadata": {},
   "source": [
    "# Q10.Create a line graph and bar chart to visualize the two data frames, DataFrame1 and DataFrame3."
   ]
  },
  {
   "cell_type": "code",
   "execution_count": 23,
   "id": "50cbe15a",
   "metadata": {},
   "outputs": [
    {
     "data": {
      "text/plain": [
       "<AxesSubplot:xlabel='Employee Name'>"
      ]
     },
     "execution_count": 23,
     "metadata": {},
     "output_type": "execute_result"
    },
    {
     "data": {
      "image/png": "[encoded data removed]",
      "text/plain": [
       "<Figure size 432x288 with 1 Axes>"
      ]
     },
     "metadata": {
      "needs_background": "light"
     },
     "output_type": "display_data"
    }
   ],
   "source": [
    "DataFrame1\n",
    "# Using DataFrame1 for line graph\n",
    "import pandas as pd\n",
    "DataFrame1_visu = pd.DataFrame(DataFrame1.groupby(['Employee Name']).mean()['Salary'])\n",
    "DataFrame1_visu.plot()"
   ]
  },
  {
   "cell_type": "code",
   "execution_count": 24,
   "id": "f5c51e6a",
   "metadata": {},
   "outputs": [
    {
     "data": {
      "text/plain": [
       "<AxesSubplot:xlabel='Employee Name'>"
      ]
     },
     "execution_count": 24,
     "metadata": {},
     "output_type": "execute_result"
    },
    {
     "data": {
      "image/png": "[encoded data removed]",
      "text/plain": [
       "<Figure size 432x288 with 1 Axes>"
      ]
     },
     "metadata": {
      "needs_background": "light"
     },
     "output_type": "display_data"
    }
   ],
   "source": [
    "# Using DataFrame1 for bar graph\n",
    "DataFrame1_visu.plot.bar()"
   ]
  },
  {
   "cell_type": "code",
   "execution_count": 25,
   "id": "d3340ce5",
   "metadata": {},
   "outputs": [
    {
     "data": {
      "text/plain": [
       "<AxesSubplot:xlabel='Salesman'>"
      ]
     },
     "execution_count": 25,
     "metadata": {},
     "output_type": "execute_result"
    },
    {
     "data": {
      "image/png": "[encoded data removed]",
      "text/plain": [
       "<Figure size 432x288 with 1 Axes>"
      ]
     },
     "metadata": {
      "needs_background": "light"
     },
     "output_type": "display_data"
    }
   ],
   "source": [
    "# Using DataFrame3 for line graph\n",
    "DataFrame3_visu = pd.DataFrame(DataFrame3.groupby(['Salesman']).mean())\n",
    "DataFrame3_visu.plot()\n"
   ]
  },
  {
   "cell_type": "code",
   "execution_count": 26,
   "id": "14bb5f30",
   "metadata": {},
   "outputs": [
    {
     "data": {
      "text/plain": [
       "<AxesSubplot:xlabel='Salesman'>"
      ]
     },
     "execution_count": 26,
     "metadata": {},
     "output_type": "execute_result"
    },
    {
     "data": {
      "image/png": "[encoded data removed]",
      "text/plain": [
       "<Figure size 432x288 with 1 Axes>"
      ]
     },
     "metadata": {
      "needs_background": "light"
     },
     "output_type": "display_data"
    }
   ],
   "source": [
    "# Using DataFrame3 for bar graph\n",
    "DataFrame3_visu.plot.bar()"
   ]
  },
  {
   "cell_type": "code",
   "execution_count": null,
   "id": "ee66d86d",
   "metadata": {},
   "outputs": [],
   "source": []
  },
  {
   "cell_type": "code",
   "execution_count": null,
   "id": "13c73de2",
   "metadata": {},
   "outputs": [],
   "source": []
  }
 ],
 "metadata": {
  "kernelspec": {
   "display_name": "Python 3 (ipykernel)",
   "language": "python",
   "name": "python3"
  },
  "language_info": {
   "codemirror_mode": {
    "name": "ipython",
    "version": 3
   },
   "file_extension": ".py",
   "mimetype": "text/x-python",
   "name": "python",
   "nbconvert_exporter": "python",
   "pygments_lexer": "ipython3",
   "version": "3.9.12"
  }
 },
 "nbformat": 4,
 "nbformat_minor": 5
}
