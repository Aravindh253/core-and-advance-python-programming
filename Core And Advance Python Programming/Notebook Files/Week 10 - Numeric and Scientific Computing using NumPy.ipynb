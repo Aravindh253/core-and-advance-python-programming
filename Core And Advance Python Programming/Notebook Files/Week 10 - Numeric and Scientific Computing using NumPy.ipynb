{
 "cells": [
  {
   "cell_type": "markdown",
   "id": "86d733e2",
   "metadata": {},
   "source": [
    "# Q1.Create two numpy arrays. The first array, called arr1 should be of one dimension and consist of six elements of float type. The second array, called arr2 should be of two dimensions and each sub-array should consist of 5 elements of string type. Display these two numpy arrays."
   ]
  },
  {
   "cell_type": "code",
   "execution_count": 1,
   "id": "9a679087",
   "metadata": {},
   "outputs": [
    {
     "name": "stdout",
     "output_type": "stream",
     "text": [
      "[1.1 2.5 3.8 4.4 5.2 6.8]\n",
      "[['apple' 'banana' 'orange' 'cherry' 'mango']\n",
      " ['papaya' 'kiwi' 'strawberry' 'grapes' 'plums']]\n"
     ]
    }
   ],
   "source": [
    "import numpy as np\n",
    "arr1 = np.array([1.1, 2.5, 3.8, 4.4, 5.2,6.8])\n",
    "arr2=np.array([['apple','banana','orange','cherry','mango'], ['papaya','kiwi','strawberry','grapes','plums']])\n",
    "print(arr1)\n",
    "print(arr2)"
   ]
  },
  {
   "cell_type": "markdown",
   "id": "b03a0eb0",
   "metadata": {},
   "source": [
    "# Q2.For the arrays arr1 and arr2 created in Q.No.1, display the following properties: data type and dimensions. Reshape arr1 into a two dimensional array of 2 rows and three columns, and display the reshaped array. Similarly, reshape arr2 into a single dimensional array and display the reshaped array.\n",
    " \n",
    " "
   ]
  },
  {
   "cell_type": "code",
   "execution_count": 2,
   "id": "13e37027",
   "metadata": {},
   "outputs": [
    {
     "name": "stdout",
     "output_type": "stream",
     "text": [
      "type is:  <class 'numpy.ndarray'>\n",
      "dtype is:  float64\n",
      "type is:  <class 'numpy.ndarray'>\n",
      "dtype is:  <U10\n",
      "[[1.1 2.5 3.8]\n",
      " [4.4 5.2 6.8]]\n",
      "['apple' 'banana' 'orange' 'cherry' 'mango' 'papaya' 'kiwi' 'strawberry'\n",
      " 'grapes' 'plums']\n"
     ]
    }
   ],
   "source": [
    "\n",
    "print(\"type is: \",type(arr1))\n",
    "print(\"dtype is: \",arr1.dtype)\n",
    "print(\"type is: \",type(arr2))\n",
    "print(\"dtype is: \",arr2.dtype)\n",
    "arr1=arr1.reshape(2,3)\n",
    "print(arr1)\n",
    "arr2=arr2.flatten()\n",
    "print(arr2)"
   ]
  },
  {
   "cell_type": "markdown",
   "id": "519edb2d",
   "metadata": {},
   "source": [
    "# Q3.Create a two dimensional array called arr3, of 3 rows and 4 columns which is initialized to zeroes. Create another single dimensional array called arr4, with 6 elements and which is initialized to ones. The type of arr4 is int.\n",
    " "
   ]
  },
  {
   "cell_type": "code",
   "execution_count": 4,
   "id": "c4944597",
   "metadata": {},
   "outputs": [
    {
     "name": "stdout",
     "output_type": "stream",
     "text": [
      "[[0. 0. 0. 0.]\n",
      " [0. 0. 0. 0.]\n",
      " [0. 0. 0. 0.]]\n",
      "[1 1 1 1 1 1]\n"
     ]
    }
   ],
   "source": [
    "\n",
    "import numpy as np\n",
    "arr3=np.zeros([3,4],dtype=float)\n",
    "arr4=np.ones(6,dtype=int)\n",
    "print(arr3)\n",
    "print(arr4)"
   ]
  },
  {
   "cell_type": "markdown",
   "id": "917eb5ad",
   "metadata": {},
   "source": [
    "# Q4.Create a list called list1 with the elements 10,20,30,40,50. Now, create a numpy array called arr5 from list1, using the method asarray. The data type of arr5 is float. Similarly, create another array called arr6, from list1, using the method fromiter, whose data type is int. Display arr5 and arr6.\n",
    " "
   ]
  },
  {
   "cell_type": "code",
   "execution_count": 5,
   "id": "96c6b6cb",
   "metadata": {},
   "outputs": [
    {
     "name": "stdout",
     "output_type": "stream",
     "text": [
      "[10, 20, 30, 40, 50]\n",
      "[10. 20. 30. 40. 50.]\n",
      "[10 20 30 40 50]\n"
     ]
    }
   ],
   "source": [
    "\n",
    "list1 = [10,20,30,40,50]\n",
    "print(list1)\n",
    "arr5=np.array(list1,dtype=float)\n",
    "print(arr5)\n",
    "arr6=np.fromiter(list1,dtype=int,count=-1)\n",
    "print(arr6)"
   ]
  },
  {
   "cell_type": "markdown",
   "id": "dc6fca4d",
   "metadata": {},
   "source": [
    "# Q5.Create a numpy array called arr7 using the method arange. The starting value of this array is 12 and ending value is 99, with a step size of 3. Use the linspace method to create another array called arr8, where the starting value is 12 and ending value is 99 and which contains 50 evenly spaced elements.\n",
    " "
   ]
  },
  {
   "cell_type": "code",
   "execution_count": 6,
   "id": "f4f1d436",
   "metadata": {},
   "outputs": [
    {
     "name": "stdout",
     "output_type": "stream",
     "text": [
      "[12 15 18 21 24 27 30 33 36 39 42 45 48 51 54 57 60 63 66 69 72 75 78 81\n",
      " 84 87 90 93 96 99]\n",
      "[ 12.          13.79591837  15.59183673  17.3877551   19.18367347\n",
      "  20.97959184  22.7755102   24.57142857  26.36734694  28.16326531\n",
      "  29.95918367  31.75510204  33.55102041  35.34693878  37.14285714\n",
      "  38.93877551  40.73469388  42.53061224  44.32653061  46.12244898\n",
      "  47.91836735  49.71428571  51.51020408  53.30612245  55.10204082\n",
      "  56.89795918  58.69387755  60.48979592  62.28571429  64.08163265\n",
      "  65.87755102  67.67346939  69.46938776  71.26530612  73.06122449\n",
      "  74.85714286  76.65306122  78.44897959  80.24489796  82.04081633\n",
      "  83.83673469  85.63265306  87.42857143  89.2244898   91.02040816\n",
      "  92.81632653  94.6122449   96.40816327  98.20408163 100.        ]\n"
     ]
    }
   ],
   "source": [
    "\n",
    "arr7=np.arange(12,100,3)\n",
    "print(arr7)\n",
    "arr8=np.linspace(12,100,num=50,endpoint=True)\n",
    "print(arr8)"
   ]
  },
  {
   "cell_type": "markdown",
   "id": "7fc66d30",
   "metadata": {},
   "source": [
    "# Q6.In the array arr2 defined in Q.No. 1, what is the output of the following statements: print(arr2), print(arr2[0:1]), print(arr2[1][3]), print (arr2[1])"
   ]
  },
  {
   "cell_type": "code",
   "execution_count": 7,
   "id": "2b9b15f1",
   "metadata": {},
   "outputs": [
    {
     "name": "stdout",
     "output_type": "stream",
     "text": [
      "[['apple' 'banana' 'orange' 'cherry' 'mango']\n",
      " ['papaya' 'kiwi' 'strawberry' 'grapes' 'plums']]\n",
      "[['apple' 'banana' 'orange' 'cherry' 'mango']]\n",
      "grapes\n",
      "['papaya' 'kiwi' 'strawberry' 'grapes' 'plums']\n"
     ]
    }
   ],
   "source": [
    "\n",
    "import numpy as np\n",
    "arr2=np.array([['apple','banana','orange','cherry','mango'], ['papaya','kiwi','strawberry','grapes','plums']])\n",
    "print(arr2) \n",
    "print(arr2[0:1])\n",
    "print(arr2[1][3])\n",
    "print(arr2[1])"
   ]
  },
  {
   "cell_type": "markdown",
   "id": "44b93018",
   "metadata": {},
   "source": [
    "# Q7.Create a two dimensional array called arr9 with the following elements: [101, 322, 768], [233, 124, 390], [534, 122, 216]. From arr9, create an array called arr10 which contains the elements 101, 322, 390, 122 using advanced integer indexing. Create another array called arr11 which contains elements of first and second rows, and second and third columns using slicing operations."
   ]
  },
  {
   "cell_type": "code",
   "execution_count": 13,
   "id": "2eb16139",
   "metadata": {},
   "outputs": [
    {
     "name": "stdout",
     "output_type": "stream",
     "text": [
      "array arr9 is :\n",
      " [[101 322 768]\n",
      " [233 124 390]\n",
      " [534 122 216]]\n",
      "\n",
      "\n",
      "Advanced Integer Indexing : [101 322 390 122]\n",
      "\n",
      "\n",
      "Slicing Operation : [[233 124 390]]\n"
     ]
    }
   ],
   "source": [
    "\n",
    "arr9 = np.array([[101,322,768],[233,124,390],[534,122,216]],dtype=int)\n",
    "arr10 = arr9[[0,0,1,2],[0,1,2,1]]\n",
    "arr11 = arr9[0:2][1:3]\n",
    "print('array arr9 is :\\n',arr9)\n",
    "print('\\n')\n",
    "print('Advanced Integer Indexing :',arr10)\n",
    "print('\\n')\n",
    "print('Slicing Operation :',arr11)"
   ]
  },
  {
   "cell_type": "markdown",
   "id": "f64cf47b",
   "metadata": {},
   "source": [
    "# Q8.From array arr9 created in Q.No. 7, find all elements greater than 200 using boolean indexing, find all non-NaN elements, and find all non-float elements. Find the result of adding arrays arr9 and another array of 3 elements, using the concept of broadcasting."
   ]
  },
  {
   "cell_type": "code",
   "execution_count": 17,
   "id": "4318c69e",
   "metadata": {},
   "outputs": [
    {
     "name": "stdout",
     "output_type": "stream",
     "text": [
      "In arr9, Elements are greater than 200 : [322 768 233 390 534 216]\n",
      "\n",
      "\n",
      "Non-NaN Elements in arr9 : [101 322 768 233 124 390 534 122 216]\n",
      "\n",
      "\n",
      "Non-Float Elements in arr9 : [[[101 322 768]\n",
      "  [233 124 390]\n",
      "  [534 122 216]]]\n",
      "\n",
      "\n",
      "The Broadcasting Method : [[array([423, 869, 334, 491, 635, 317])\n",
      "  array([ 644, 1090,  555,  712,  856,  538])\n",
      "  array([1090, 1536, 1001, 1158, 1302,  984])]\n",
      " [array([ 334,  555, 1001,  466,  357,  623,  767,  355,  449])\n",
      "  array([225, 446, 892, 357, 248, 514, 658, 246, 340])\n",
      "  array([ 491,  712, 1158,  623,  514,  780,  924,  512,  606])]\n",
      " [array([[[ 635,  856, 1302],\n",
      "          [ 767,  658,  924],\n",
      "          [1068,  656,  750]]]) array([[[223, 444, 890],\n",
      "                                        [355, 246, 512],\n",
      "                                        [656, 244, 338]]])\n",
      "  array([[[317, 538, 984],\n",
      "          [449, 340, 606],\n",
      "          [750, 338, 432]]])]]\n"
     ]
    },
    {
     "name": "stderr",
     "output_type": "stream",
     "text": [
      "C:\\Users\\91830\\AppData\\Local\\Temp\\ipykernel_30108\\11271294.py:11: VisibleDeprecationWarning: Creating an ndarray from ragged nested sequences (which is a list-or-tuple of lists-or-tuples-or ndarrays with different lengths or shapes) is deprecated. If you meant to do this, you must specify 'dtype=object' when creating the ndarray.\n",
      "  arr15 = np.array([[arr12],[arr13],[arr14]])\n"
     ]
    }
   ],
   "source": [
    "\n",
    "arr12 = arr9[arr9 > 200]\n",
    "print('In arr9, Elements are greater than 200 :',arr12)\n",
    "print('\\n')\n",
    "arr13 = arr9[~np.isnan(arr9)]\n",
    "print('Non-NaN Elements in arr9 :',arr13)\n",
    "print('\\n')\n",
    "arr14 = arr9[arr9.dtype != 'float']\n",
    "print('Non-Float Elements in arr9 :',arr14)\n",
    "print('\\n')\n",
    "arr15 = np.array([[arr12],[arr13],[arr14]])\n",
    "arr16 = arr9 + arr15\n",
    "print('The Broadcasting Method :',arr16)"
   ]
  },
  {
   "cell_type": "markdown",
   "id": "37c8da8c",
   "metadata": {},
   "source": [
    "# Q9.For the array arr9, find its transpose. Find the result of joining the arrays arr1 and arr4 along axis 0.\n",
    " "
   ]
  },
  {
   "cell_type": "code",
   "execution_count": 21,
   "id": "811d7af7",
   "metadata": {},
   "outputs": [
    {
     "name": "stdout",
     "output_type": "stream",
     "text": [
      "The Transpose of arr9 is given below :\n",
      "[[101 233 534]\n",
      " [322 124 122]\n",
      " [768 390 216]]\n",
      "The joining of two arrays are arr1 and arr4 given below :\n",
      "[1.1 2.5 3.8 4.4 5.2 6.8 1.  1.  1.  1.  1.  1. ]\n"
     ]
    }
   ],
   "source": [
    "\n",
    "print('The Transpose of arr9 is given below :')\n",
    "print(arr9.T)\n",
    "print('The joining of two arrays are arr1 and arr4 given below :')\n",
    "x=np.concatenate((arr1,arr4),axis=0)\n",
    "print(x)"
   ]
  },
  {
   "cell_type": "markdown",
   "id": "2bf17593",
   "metadata": {},
   "source": [
    "# Q10.Using any two 2-dimensional arrays, demonstrate the working of the methods, hstack, vstack, hsplit and vsplit."
   ]
  },
  {
   "cell_type": "code",
   "execution_count": 15,
   "id": "df1b0d16",
   "metadata": {},
   "outputs": [
    {
     "name": "stdout",
     "output_type": "stream",
     "text": [
      "[ 1000  5000 10000 40000]\n",
      "[[ 1000  5000]\n",
      " [10000 40000]]\n",
      "[array([[ 1000,  5000],\n",
      "       [10000, 40000]])]\n",
      "[array([[ 1000,  5000],\n",
      "       [10000, 40000]])]\n"
     ]
    }
   ],
   "source": [
    "\n",
    "import numpy as np\n",
    "arr1=np.array([[1000,5000],[10000,40000]])\n",
    "a=np.hstack(arr1)\n",
    "b=np.vstack(arr1)\n",
    "c=np.hsplit(arr1,1)\n",
    "d=np.vsplit(arr1,1)\n",
    "print(a)\n",
    "print(b)\n",
    "print(c)\n",
    "print(d)\n"
   ]
  },
  {
   "cell_type": "code",
   "execution_count": null,
   "id": "a63bb8bd",
   "metadata": {},
   "outputs": [],
   "source": [
    "\n"
   ]
  },
  {
   "cell_type": "code",
   "execution_count": null,
   "id": "fb68ae05",
   "metadata": {},
   "outputs": [],
   "source": []
  },
  {
   "cell_type": "code",
   "execution_count": null,
   "id": "48565504",
   "metadata": {},
   "outputs": [],
   "source": []
  },
  {
   "cell_type": "code",
   "execution_count": null,
   "id": "ba99e54a",
   "metadata": {},
   "outputs": [],
   "source": []
  },
  {
   "cell_type": "code",
   "execution_count": null,
   "id": "c9c91abc",
   "metadata": {},
   "outputs": [],
   "source": []
  },
  {
   "cell_type": "code",
   "execution_count": null,
   "id": "27d18b54",
   "metadata": {},
   "outputs": [],
   "source": []
  },
  {
   "cell_type": "code",
   "execution_count": null,
   "id": "0b003028",
   "metadata": {},
   "outputs": [],
   "source": []
  },
  {
   "cell_type": "code",
   "execution_count": null,
   "id": "de7b6410",
   "metadata": {},
   "outputs": [],
   "source": []
  },
  {
   "cell_type": "code",
   "execution_count": null,
   "id": "e49f3c99",
   "metadata": {},
   "outputs": [],
   "source": []
  },
  {
   "cell_type": "code",
   "execution_count": null,
   "id": "3dceb568",
   "metadata": {},
   "outputs": [],
   "source": []
  },
  {
   "cell_type": "code",
   "execution_count": null,
   "id": "746b758a",
   "metadata": {},
   "outputs": [],
   "source": []
  },
  {
   "cell_type": "code",
   "execution_count": null,
   "id": "eae1fc8f",
   "metadata": {},
   "outputs": [],
   "source": []
  },
  {
   "cell_type": "code",
   "execution_count": null,
   "id": "ed0b0ccf",
   "metadata": {},
   "outputs": [],
   "source": []
  },
  {
   "cell_type": "code",
   "execution_count": null,
   "id": "301aaff7",
   "metadata": {},
   "outputs": [],
   "source": []
  },
  {
   "cell_type": "code",
   "execution_count": null,
   "id": "598db876",
   "metadata": {},
   "outputs": [],
   "source": []
  },
  {
   "cell_type": "code",
   "execution_count": null,
   "id": "3d9d4f3f",
   "metadata": {},
   "outputs": [],
   "source": []
  },
  {
   "cell_type": "code",
   "execution_count": null,
   "id": "ccbbba68",
   "metadata": {},
   "outputs": [],
   "source": []
  }
 ],
 "metadata": {
  "kernelspec": {
   "display_name": "Python 3 (ipykernel)",
   "language": "python",
   "name": "python3"
  },
  "language_info": {
   "codemirror_mode": {
    "name": "ipython",
    "version": 3
   },
   "file_extension": ".py",
   "mimetype": "text/x-python",
   "name": "python",
   "nbconvert_exporter": "python",
   "pygments_lexer": "ipython3",
   "version": "3.9.12"
  }
 },
 "nbformat": 4,
 "nbformat_minor": 5
}
