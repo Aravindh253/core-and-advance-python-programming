{
 "cells": [
  {
   "cell_type": "markdown",
   "id": "2e06ea37",
   "metadata": {},
   "source": [
    "# Q1.Write a program to accept an integer n greater than 10. Then print all the odd numbers from 1 to n."
   ]
  },
  {
   "cell_type": "code",
   "execution_count": 2,
   "id": "23e2eb28",
   "metadata": {},
   "outputs": [
    {
     "name": "stdout",
     "output_type": "stream",
     "text": [
      "Enter a number that is greater than 10 :14\n",
      "1 3 5 7 9 11 13 "
     ]
    }
   ],
   "source": [
    "n=int(input('Enter a number that is greater than 10 :'))\n",
    "while n<10:\n",
    "    n=int(input('Enter a number that is greater than 10 :'))\n",
    "for i in range(1,n+1,2):\n",
    "    print(i,end=' ')"
   ]
  },
  {
   "cell_type": "code",
   "execution_count": null,
   "id": "a5b388c8",
   "metadata": {},
   "outputs": [],
   "source": []
  },
  {
   "cell_type": "markdown",
   "id": "fcda0028",
   "metadata": {},
   "source": [
    "# Q2.Write a program to accept an integer n greater than 10. Then print all the prime numbers from 1 to n."
   ]
  },
  {
   "cell_type": "code",
   "execution_count": 3,
   "id": "3a21cf85",
   "metadata": {},
   "outputs": [
    {
     "name": "stdout",
     "output_type": "stream",
     "text": [
      "Enter a number :12\n",
      "2 3 5 7 11 "
     ]
    }
   ],
   "source": [
    "m=int(input('Enter a number :'))\n",
    "while m<10:\n",
    "     m=int(input('Enter a number :'))\n",
    "for n in range(2,m):\n",
    "    count=0\n",
    "    for i in range(2,((n//2)+1)):\n",
    "        if(n%i==0):\n",
    "         count=count+1\n",
    "         break\n",
    "    else:\n",
    "      print(n,end=' ')"
   ]
  },
  {
   "cell_type": "code",
   "execution_count": null,
   "id": "4a987780",
   "metadata": {},
   "outputs": [],
   "source": []
  },
  {
   "cell_type": "markdown",
   "id": "6912e346",
   "metadata": {},
   "source": [
    "# Q3.In this exercise you will create a program that computes the average of a collection of values entered by the user. The user will enter 0 as a sentinel value to indicate that no further values will be provided. Your program should display an appropriate error message if the first value entered by the user is 0.\n",
    "\n",
    "\n"
   ]
  },
  {
   "cell_type": "code",
   "execution_count": 5,
   "id": "603a4a7a",
   "metadata": {},
   "outputs": [
    {
     "name": "stdout",
     "output_type": "stream",
     "text": [
      "input some integers to calculate their sum and average>input 0 to exit.\n",
      "6\n",
      "7\n",
      "8\n",
      "9\n",
      "0\n",
      "average and sum of the above numbers are: 7.5 30.0\n"
     ]
    }
   ],
   "source": [
    "print(\"input some integers to calculate their sum and average>input 0 to exit.\")\n",
    "count=0\n",
    "sum=0.0\n",
    "number=1\n",
    "\n",
    "while number !=0:\n",
    "    number=int(input(\"\"))\n",
    "    sum=sum+number\n",
    "    count+=1\n",
    "if count ==0:\n",
    "    print('input some numbers')\n",
    "\n",
    "else:\n",
    "    print(\"average and sum of the above numbers are:\",sum/(count-1),sum)\n",
    "\n"
   ]
  },
  {
   "cell_type": "code",
   "execution_count": null,
   "id": "367e33e5",
   "metadata": {},
   "outputs": [],
   "source": []
  },
  {
   "cell_type": "markdown",
   "id": "202d045a",
   "metadata": {},
   "source": [
    "# Q4.Write a program that takes a number as input and prints its multiplication table."
   ]
  },
  {
   "cell_type": "code",
   "execution_count": 6,
   "id": "e15ebc24",
   "metadata": {},
   "outputs": [
    {
     "name": "stdout",
     "output_type": "stream",
     "text": [
      "Enter the number 13\n",
      "13 x 1 = 13\n",
      "13 x 2 = 26\n",
      "13 x 3 = 39\n",
      "13 x 4 = 52\n",
      "13 x 5 = 65\n",
      "13 x 6 = 78\n",
      "13 x 7 = 91\n",
      "13 x 8 = 104\n",
      "13 x 9 = 117\n"
     ]
    }
   ],
   "source": [
    "num=int(input('Enter the number '))\n",
    "for i in range(1,10):\n",
    "    print(num,'x',i,'=',num*i)\n",
    "    "
   ]
  },
  {
   "cell_type": "code",
   "execution_count": null,
   "id": "e2b46bbd",
   "metadata": {},
   "outputs": [],
   "source": []
  },
  {
   "cell_type": "markdown",
   "id": "478f52f4",
   "metadata": {},
   "source": [
    "# Q5.Write a program that displays a temperature conversion table for degrees Celsius and degrees Fahrenheit. The table should include rows for all temperatures between 0 and 100 degrees Celsius that are multiples of 10 degrees Celsius. Include appropriate headings on your columns."
   ]
  },
  {
   "cell_type": "code",
   "execution_count": 7,
   "id": "0cdf5fa9",
   "metadata": {},
   "outputs": [
    {
     "name": "stdout",
     "output_type": "stream",
     "text": [
      "   F   C \n",
      "  32    0\n",
      "  50   10\n",
      "  68   20\n",
      "  86   30\n",
      " 104   40\n",
      " 122   50\n",
      " 140   60\n",
      " 158   70\n",
      " 176   80\n",
      " 194   90\n"
     ]
    }
   ],
   "source": [
    "print('   F   C ' )\n",
    "for C in range(0,100,10):\n",
    "    F=9 * C / 5 + 32\n",
    "    print('%4.0f %4.0f' % (F , C))\n",
    "    "
   ]
  },
  {
   "cell_type": "code",
   "execution_count": null,
   "id": "50514ea0",
   "metadata": {},
   "outputs": [],
   "source": []
  },
  {
   "cell_type": "markdown",
   "id": "2ba90ae6",
   "metadata": {},
   "source": [
    "# Q6.A string is a palindrome if it is identical forward and backward. For example “anna”, “civic”, “level” and “madam” are all examples of palindrome words. Write a program that reads a string from the user and uses a loop to determine whether or not it is a palindrome. Display the result, including a meaningful output message."
   ]
  },
  {
   "cell_type": "code",
   "execution_count": 8,
   "id": "8b39e9d6",
   "metadata": {},
   "outputs": [
    {
     "name": "stdout",
     "output_type": "stream",
     "text": [
      "Enter the string:civic\n",
      "The string  civic is a palindrome\n"
     ]
    }
   ],
   "source": [
    "str1=input('Enter the string:')\n",
    "rev=str1[::-1]\n",
    "for i in range(len(str1)):\n",
    "     if str1[i]!=rev[i]:\n",
    "         print('The string ',str1,'is not a palindrome')\n",
    "         break\n",
    "\n",
    "else:\n",
    "      print('The string ',str1,'is a palindrome')\n",
    "    "
   ]
  },
  {
   "cell_type": "markdown",
   "id": "1c5c333d",
   "metadata": {},
   "source": [
    "# Q7.The greatest common divisor (GCD) of two positive integers, n and m, is the largest number, d, which divides evenly into both n and m. The following algorithm is used to find GCD of n and m :\n",
    "\n",
    "# Initialize d to the smaller of m and n.\n",
    "# While d does not evenly divide m or d does not evenly divide n do\n",
    "# Decrease the value of d by 1\n",
    "# Report d as the greatest common divisor of n and m"
   ]
  },
  {
   "cell_type": "code",
   "execution_count": 10,
   "id": "0ef439ef",
   "metadata": {},
   "outputs": [
    {
     "name": "stdout",
     "output_type": "stream",
     "text": [
      "Enter a number :2\n",
      "Enter a number :4\n",
      "2\n"
     ]
    }
   ],
   "source": [
    "m=int(input('Enter a number :'))\n",
    "n=int(input('Enter a number :'))\n",
    "d=min(m,n)\n",
    "while m%d!=0 or n%d!=0:\n",
    "     d=d-1\n",
    "print(d)       \n",
    "    "
   ]
  },
  {
   "cell_type": "code",
   "execution_count": null,
   "id": "25f3385b",
   "metadata": {},
   "outputs": [],
   "source": []
  },
  {
   "cell_type": "markdown",
   "id": "bd591efc",
   "metadata": {},
   "source": [
    "# Q8.The prime factorization of an integer, n, can be determined using the following steps:\n",
    "\n",
    "# Initialize factor to two\n",
    "# While factor is less than or equal to n do\n",
    "# If n is evenly divisible by factor then # Conclude that factor is a factor of n\n",
    "# Divide n by factor using integer division\n",
    "# Else\n",
    "# Increase factor by one"
   ]
  },
  {
   "cell_type": "code",
   "execution_count": 11,
   "id": "6eb01cab",
   "metadata": {},
   "outputs": [
    {
     "name": "stdout",
     "output_type": "stream",
     "text": [
      "Enter the value of n:80\n",
      "2\n",
      "2\n",
      "2\n",
      "2\n",
      "5\n"
     ]
    }
   ],
   "source": [
    "x= eval(input('Enter the value of n:'))\n",
    "divisor=2\n",
    "while divisor<=x:\n",
    "    if x % divisor ==0:\n",
    "        print(divisor)\n",
    "        x=x/divisor\n",
    "    else:\n",
    "         divisor+=1"
   ]
  },
  {
   "cell_type": "code",
   "execution_count": null,
   "id": "ca7ac8e5",
   "metadata": {},
   "outputs": [],
   "source": []
  },
  {
   "cell_type": "markdown",
   "id": "9b7d6313",
   "metadata": {},
   "source": [
    "# Q9. Write a program that converts a binary (base 2) number to decimal (base 10). Your program should begin by reading the binary number from the user as a string. Then it should compute the equivalent decimal number by processing each digit in the binary number. Finally, your program should display the equivalent decimal number with an appropriate message."
   ]
  },
  {
   "cell_type": "code",
   "execution_count": 12,
   "id": "d3546206",
   "metadata": {},
   "outputs": [
    {
     "name": "stdout",
     "output_type": "stream",
     "text": [
      "Enter the binary numbers:450\n",
      "The equivalent decimal of is : 26\n"
     ]
    }
   ],
   "source": [
    "result=''#result will hold the final equivalent decimal no:\n",
    "binary=input('Enter the binary numbers:')\n",
    "decimal=0\n",
    "for digit in binary:\n",
    "    decimal=decimal*2+int(digit)\n",
    "print('The equivalent decimal of is :',decimal)\n",
    "    \n"
   ]
  },
  {
   "cell_type": "code",
   "execution_count": null,
   "id": "d2df6c24",
   "metadata": {},
   "outputs": [],
   "source": []
  },
  {
   "cell_type": "markdown",
   "id": "afa55708",
   "metadata": {},
   "source": [
    "# Q10.Demonstrate the formatting capabilities of format function on integers, floats and strings.\n",
    "\n"
   ]
  },
  {
   "cell_type": "code",
   "execution_count": 13,
   "id": "17084711",
   "metadata": {},
   "outputs": [
    {
     "name": "stdout",
     "output_type": "stream",
     "text": [
      "radius=30.5\n",
      "length=35,name=David miller\n",
      "David\n",
      "miller\n"
     ]
    }
   ],
   "source": [
    "r,l,name=30.5,35,'David miller'\n",
    "print(f'radius={r}')\n",
    "print(f'length={l},name={name}')\n",
    "for i in name.split():\n",
    "     print(i)"
   ]
  },
  {
   "cell_type": "code",
   "execution_count": null,
   "id": "dd26801b",
   "metadata": {},
   "outputs": [],
   "source": []
  },
  {
   "cell_type": "code",
   "execution_count": null,
   "id": "adc82ba5",
   "metadata": {},
   "outputs": [],
   "source": []
  },
  {
   "cell_type": "code",
   "execution_count": null,
   "id": "d8cb6a4e",
   "metadata": {},
   "outputs": [],
   "source": []
  },
  {
   "cell_type": "code",
   "execution_count": null,
   "id": "746d9951",
   "metadata": {},
   "outputs": [],
   "source": []
  },
  {
   "cell_type": "code",
   "execution_count": null,
   "id": "41ed1c28",
   "metadata": {},
   "outputs": [],
   "source": []
  },
  {
   "cell_type": "code",
   "execution_count": null,
   "id": "28d945e4",
   "metadata": {},
   "outputs": [],
   "source": []
  },
  {
   "cell_type": "code",
   "execution_count": null,
   "id": "34ea1f7d",
   "metadata": {},
   "outputs": [],
   "source": []
  }
 ],
 "metadata": {
  "kernelspec": {
   "display_name": "Python 3 (ipykernel)",
   "language": "python",
   "name": "python3"
  },
  "language_info": {
   "codemirror_mode": {
    "name": "ipython",
    "version": 3
   },
   "file_extension": ".py",
   "mimetype": "text/x-python",
   "name": "python",
   "nbconvert_exporter": "python",
   "pygments_lexer": "ipython3",
   "version": "3.9.12"
  }
 },
 "nbformat": 4,
 "nbformat_minor": 5
}
