{
 "cells": [
  {
   "cell_type": "markdown",
   "id": "3b562a02",
   "metadata": {},
   "source": [
    "# Q1.A set contains names which begin either with A or with B. Write a program to separate the names into two sets, one containing names beginning with A and the other containing names beginning with B"
   ]
  },
  {
   "cell_type": "code",
   "execution_count": 1,
   "id": "604103b4",
   "metadata": {},
   "outputs": [
    {
     "name": "stdout",
     "output_type": "stream",
     "text": [
      "{'aravindh', 'badhri', 'alehya', 'bala', 'balu', 'arun'}\n",
      "Set a contains : {'alehya', 'aravindh', 'arun'}\n",
      "Set a contains : {'balu', 'bala', 'badhri'}\n"
     ]
    }
   ],
   "source": [
    "a = set()\n",
    "b = set()\n",
    "names = {'alehya', 'balu', 'bala', 'aravindh', 'badhri', 'arun'}\n",
    "print(names)\n",
    "for ele in names:\n",
    "    if ele.startswith(\"a\"):\n",
    "         a.add(ele)\n",
    "    if ele.startswith(\"b\"):\n",
    "         b.add(ele)\n",
    "        \n",
    "    \n",
    "print(\"Set a contains :\", a)\n",
    "print(\"Set a contains :\", b)"
   ]
  },
  {
   "cell_type": "code",
   "execution_count": null,
   "id": "033b2fe1",
   "metadata": {},
   "outputs": [],
   "source": []
  },
  {
   "cell_type": "markdown",
   "id": "a6510010",
   "metadata": {},
   "source": [
    "# Q2.Create a list of tuples. Each tuple should contain an item and its price in float. Write a program to print each item and its price in a proper format"
   ]
  },
  {
   "cell_type": "code",
   "execution_count": 2,
   "id": "c7b9497b",
   "metadata": {},
   "outputs": [
    {
     "name": "stdout",
     "output_type": "stream",
     "text": [
      "(('apple', 20.5), ('banana', 55.4), ('mango', 88.4), ('grapes', 50.44))\n"
     ]
    }
   ],
   "source": [
    "item = ['apple','banana','mango','grapes']\n",
    "price = [20.5,55.4,88.4,50.44]\n",
    "lst_tuple = tuple(zip(item,price))\n",
    "print(lst_tuple)\n"
   ]
  },
  {
   "cell_type": "code",
   "execution_count": null,
   "id": "e6ce0404",
   "metadata": {},
   "outputs": [],
   "source": []
  },
  {
   "cell_type": "markdown",
   "id": "a0fb69f0",
   "metadata": {},
   "source": [
    "# Q3.Write a program that reads integers from the user and stores them in a list. Your program should continue reading values until the user enters 0. Then it should display all of the values entered by the user (except for the 0) in order from smallest to largest, with one value appearing on each line. Use either the sort method or the sorted function to sort the list."
   ]
  },
  {
   "cell_type": "code",
   "execution_count": 3,
   "id": "0d43526e",
   "metadata": {},
   "outputs": [
    {
     "name": "stdout",
     "output_type": "stream",
     "text": [
      "Enter an integer(0 to quit):10\n",
      "Enter an integer(0 to quit):9\n",
      "Enter an integer(0 to quit):7\n",
      "Enter an integer(0 to quit):9\n",
      "Enter an integer(0 to quit):0\n",
      "The      values,     sorted     into    ascending      order,    are:\n",
      "7\n",
      "9\n",
      "9\n",
      "10\n"
     ]
    }
   ],
   "source": [
    "# Start with an empty list\n",
    "data  = []\n",
    "# Read values and add them to the list until the user enters 0\n",
    "num = int (input (\"Enter an integer(0 to quit):\"))\n",
    "while num   !=   0:\n",
    "     data.append(num)\n",
    "     num = int (input (\"Enter an integer(0 to quit):\"))\n",
    "    \n",
    "# Sort the values:\n",
    "data.sort()\n",
    "# Display the values in ascending order:\n",
    "print (\"The      values,     sorted     into    ascending      order,    are:\")\n",
    "for   num   in   data:\n",
    "    print (num)"
   ]
  },
  {
   "cell_type": "code",
   "execution_count": null,
   "id": "f94d0cc1",
   "metadata": {},
   "outputs": [],
   "source": []
  },
  {
   "cell_type": "markdown",
   "id": "4b7b5fcd",
   "metadata": {},
   "source": [
    "# Q4.Write a program to read a list of numbers from the user and remove the two largest and two smallest values from it. Display the list with the values removed, followed by the original list. Your program should generate an appropriate error message if the user enters less than 5 values."
   ]
  },
  {
   "cell_type": "code",
   "execution_count": 4,
   "id": "ea6bc266",
   "metadata": {},
   "outputs": [
    {
     "name": "stdout",
     "output_type": "stream",
     "text": [
      "Enter numbers separated by spaces:60 70 80 90 45 50\n",
      "[60, 70]\n",
      "[60, 70, 80, 90, 45, 50]\n"
     ]
    }
   ],
   "source": [
    "\n",
    "str_n=input(\"Enter numbers separated by spaces:\")\n",
    "number_str = str_n.split()\n",
    "num=[]\n",
    "ret=[]\n",
    "if len(number_str)>5:\n",
    "    for s in number_str:\n",
    "        num.append(int(s))\n",
    "    ret=num.copy()\n",
    "    del_list=num.copy()\n",
    "    del_list.sort()\n",
    "    for s in del_list[0:2]+del_list[-2:]:\n",
    "        ret.remove(s)\n",
    "    print(ret)\n",
    "    print(num)\n",
    "else:\n",
    "     print(\"You entered less than five values!\")\n",
    "    "
   ]
  },
  {
   "cell_type": "code",
   "execution_count": null,
   "id": "8a95ad94",
   "metadata": {},
   "outputs": [],
   "source": []
  },
  {
   "cell_type": "markdown",
   "id": "a2809bed",
   "metadata": {},
   "source": [
    "# Q5.In this exercise, you will create a program that reads words from the user until the user enters a blank line. After the user enters a blank line your program should display each word entered by the user exactly once."
   ]
  },
  {
   "cell_type": "code",
   "execution_count": 6,
   "id": "8735707e",
   "metadata": {},
   "outputs": [
    {
     "name": "stdout",
     "output_type": "stream",
     "text": [
      "Enter a word (blank line to quit):[]\n",
      "Enter      a  word    (blank    line   to   quit): \n",
      "[]\n"
     ]
    }
   ],
   "source": [
    "words  = []\n",
    "word =  input (\"Enter a word (blank line to quit):\")\n",
    "while    word   != \" \":\n",
    "    \n",
    "    if  word    not   in  words:\n",
    "        words.append(word)\n",
    "    \n",
    "    word =  input (\"Enter      a  word    (blank    line   to   quit):\")\n",
    "for   word   in  words:\n",
    "     print (word)"
   ]
  },
  {
   "cell_type": "code",
   "execution_count": null,
   "id": "784c0c34",
   "metadata": {},
   "outputs": [],
   "source": []
  },
  {
   "cell_type": "markdown",
   "id": "5f059db3",
   "metadata": {},
   "source": [
    "# Q6.Write a program that reads numbers from the user until a 0 is entered. Your program should display the average of all of the values entered by the user. Then the program should display all of the below average values, followed by all of the average values (if any), followed by all of the above average values. An appropriate label should be displayed before each list of values."
   ]
  },
  {
   "cell_type": "code",
   "execution_count": 7,
   "id": "06bc1212",
   "metadata": {},
   "outputs": [
    {
     "name": "stdout",
     "output_type": "stream",
     "text": [
      "Enter any number :40\n",
      "Enter any number :45\n",
      "Enter any number :38\n",
      "Enter any number :42\n",
      "Enter any number :0\n",
      "Average of all numbers is :  41.25\n",
      "list of below average values:  [40, 38]\n",
      "list of above average values:  [45, 42]\n"
     ]
    }
   ],
   "source": [
    "list1 = []\n",
    "sum = 0\n",
    "while True:\n",
    "    num = int(input('Enter any number :'))\n",
    "    if num != 0:\n",
    "        list1.append(num)\n",
    "        sum = sum + num\n",
    "    else :\n",
    "         break\n",
    "average = sum / len(list1)\n",
    "print('Average of all numbers is : ',average)\n",
    "list2 = []\n",
    "list3 = []\n",
    "for i in list1 :\n",
    "    if i < average:\n",
    "        list2.append(i)\n",
    "    elif i > average:\n",
    "        list3.append(i)\n",
    "print('list of below average values: ',list2)\n",
    "print('list of above average values: ',list3)\n",
    "        \n",
    "        "
   ]
  },
  {
   "cell_type": "code",
   "execution_count": null,
   "id": "0f869605",
   "metadata": {},
   "outputs": [],
   "source": []
  },
  {
   "cell_type": "markdown",
   "id": "d67a5d27",
   "metadata": {},
   "source": [
    "# Q7.Create a program that determines and displays the number of unique characters in a string entered by the user. For example, Hello World! has 9 unique characters while zzz has only one unique character. Use a dictionary to solve this problem."
   ]
  },
  {
   "cell_type": "code",
   "execution_count": null,
   "id": "61ccd06d",
   "metadata": {},
   "outputs": [],
   "source": [
    "# Read the string from the user\n",
    "s  = input (\"Enter a  string:    \")\n",
    "characters = {}\n",
    "for   ch  in   s:\n",
    "    characters[ch]   = True\n",
    "    for   ch  in   s:\n",
    "         characters[ch]   = True\n",
    "    print (\"That string  contained\",  len (characters),\n",
    "           \"unique character(s).\")\n",
    "           \n",
    "        "
   ]
  },
  {
   "cell_type": "code",
   "execution_count": null,
   "id": "2e0041bc",
   "metadata": {},
   "outputs": [],
   "source": []
  },
  {
   "cell_type": "markdown",
   "id": "7f085354",
   "metadata": {},
   "source": [
    "# Q8.. Two words are anagrams if they contain all of the same letters, but in a different order. For example, “evil” and “live” are anagrams because each contains one e, one i, one l, and one v. Create a program that reads two strings from the user, determines whether or not they are anagrams, and reports the result"
   ]
  },
  {
   "cell_type": "code",
   "execution_count": 8,
   "id": "dda490fb",
   "metadata": {},
   "outputs": [
    {
     "name": "stdout",
     "output_type": "stream",
     "text": [
      "Enter the first word: evil\n",
      "Enter the second word: live\n",
      "True\n"
     ]
    }
   ],
   "source": [
    "first = list(input('Enter the first word: '))\n",
    "second = list(input('Enter the second word: '))\n",
    "result = True\n",
    "for a in first:\n",
    "    try:\n",
    "         second.remove(a)\n",
    "    except ValueError:\n",
    "         result = False\n",
    "            \n",
    "if len(second) > 0:\n",
    "    result = False\n",
    "print(result)\n",
    "    \n",
    "        "
   ]
  },
  {
   "cell_type": "code",
   "execution_count": null,
   "id": "9ceb0e73",
   "metadata": {},
   "outputs": [],
   "source": []
  },
  {
   "cell_type": "markdown",
   "id": "e51875f6",
   "metadata": {},
   "source": [
    "# Q9.An integer, n, is said to be perfect when the sum of all of the proper divisors of n is equal to n. For example, 28 is a perfect number because its proper divisors are 1, 2, 4, 7 and 14, and 1 + 2 + 4 + 7 + 14 = 28. Write a program that determines whether or not a positive integer is perfect. Your program will accept a number from the user. If that number is a perfect number then your program will display true. Otherwise it will display false.\n",
    "\n"
   ]
  },
  {
   "cell_type": "code",
   "execution_count": 9,
   "id": "ffdc7d01",
   "metadata": {},
   "outputs": [
    {
     "name": "stdout",
     "output_type": "stream",
     "text": [
      "False\n"
     ]
    }
   ],
   "source": [
    "def perfect_number(n):\n",
    "    sum = 0\n",
    "    for x in range(1, n):\n",
    "        if n % x == 0:\n",
    "           sum += x/n\n",
    "    return sum ==n/n\n",
    "print(perfect_number(37))"
   ]
  },
  {
   "cell_type": "code",
   "execution_count": null,
   "id": "8a8b4ca9",
   "metadata": {},
   "outputs": [],
   "source": []
  },
  {
   "cell_type": "markdown",
   "id": "0ac9e4f5",
   "metadata": {},
   "source": [
    "# Q10.Write a program that finds all of the keys in a dictionary that map to a specific value. The program will take the value to search for as its input. It will display a (possibly empty) list of keys from the dictionary that map to the provided value.\n",
    "\n"
   ]
  },
  {
   "cell_type": "code",
   "execution_count": 10,
   "id": "1b600044",
   "metadata": {},
   "outputs": [
    {
     "name": "stdout",
     "output_type": "stream",
     "text": [
      "Enter a keys:ford\n",
      "brand\n"
     ]
    }
   ],
   "source": [
    "mycar={'brand':'ford','model':'mustang'}\n",
    "value=(input('Enter a keys:'))\n",
    "for keys in mycar:\n",
    "    if mycar[keys]==value:\n",
    "        print(keys)\n"
   ]
  },
  {
   "cell_type": "code",
   "execution_count": null,
   "id": "94e80c43",
   "metadata": {},
   "outputs": [],
   "source": []
  }
 ],
 "metadata": {
  "kernelspec": {
   "display_name": "Python 3 (ipykernel)",
   "language": "python",
   "name": "python3"
  },
  "language_info": {
   "codemirror_mode": {
    "name": "ipython",
    "version": 3
   },
   "file_extension": ".py",
   "mimetype": "text/x-python",
   "name": "python",
   "nbconvert_exporter": "python",
   "pygments_lexer": "ipython3",
   "version": "3.9.12"
  }
 },
 "nbformat": 4,
 "nbformat_minor": 5
}
