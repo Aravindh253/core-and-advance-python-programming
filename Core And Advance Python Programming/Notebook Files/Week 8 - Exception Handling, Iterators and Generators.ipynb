{
 "cells": [
  {
   "cell_type": "markdown",
   "id": "e1efc313",
   "metadata": {},
   "source": [
    "# Q1.Write a program that accepts two integers and displays the result of dividing the first number by the second number. It should raise ZeroDivisionError if the denominator is zero."
   ]
  },
  {
   "cell_type": "code",
   "execution_count": 17,
   "id": "65dae520",
   "metadata": {},
   "outputs": [
    {
     "name": "stdout",
     "output_type": "stream",
     "text": [
      "Enter the first number : 4\n",
      "Enter the second number : 0\n",
      "You entered the function...\n",
      "division by zero error has raised\n",
      "End of the program\n"
     ]
    }
   ],
   "source": [
    "\n",
    "def func(a,b):\n",
    "    print(\"You entered the function...\")\n",
    "    result = a/b\n",
    "    print('End of the function')\n",
    "    return result\n",
    "try:\n",
    "    first = int(input(\"Enter the first number : \"))\n",
    "    second = int(input(\"Enter the second number : \"))\n",
    "    res = func(first,second)\n",
    "    print(\"The result is : \",res)\n",
    "          \n",
    "except ZeroDivisionError as z:\n",
    "    print(z,'error has raised')\n",
    "    \n",
    "else:\n",
    "    print(\"No Exception occured in this program\")    \n",
    "finally:\n",
    "    print(\"End of the program\")"
   ]
  },
  {
   "cell_type": "code",
   "execution_count": null,
   "id": "2675ee9c",
   "metadata": {},
   "outputs": [],
   "source": []
  },
  {
   "cell_type": "markdown",
   "id": "b1f7bc30",
   "metadata": {},
   "source": [
    "# Q2.Implement the above program with the help of Assertion\n"
   ]
  },
  {
   "cell_type": "code",
   "execution_count": 4,
   "id": "521a46db",
   "metadata": {},
   "outputs": [
    {
     "name": "stdout",
     "output_type": "stream",
     "text": [
      "Enter the first number : 4\n",
      "Enter the second number : 0\n"
     ]
    },
    {
     "ename": "AssertionError",
     "evalue": "Denominator is zero",
     "output_type": "error",
     "traceback": [
      "\u001b[1;31m---------------------------------------------------------------------------\u001b[0m",
      "\u001b[1;31mAssertionError\u001b[0m                            Traceback (most recent call last)",
      "Input \u001b[1;32mIn [4]\u001b[0m, in \u001b[0;36m<cell line: 5>\u001b[1;34m()\u001b[0m\n\u001b[0;32m      3\u001b[0m first \u001b[38;5;241m=\u001b[39m \u001b[38;5;28mint\u001b[39m(\u001b[38;5;28minput\u001b[39m(\u001b[38;5;124m\"\u001b[39m\u001b[38;5;124mEnter the first number : \u001b[39m\u001b[38;5;124m\"\u001b[39m))\n\u001b[0;32m      4\u001b[0m second \u001b[38;5;241m=\u001b[39m \u001b[38;5;28mint\u001b[39m(\u001b[38;5;28minput\u001b[39m(\u001b[38;5;124m\"\u001b[39m\u001b[38;5;124mEnter the second number : \u001b[39m\u001b[38;5;124m\"\u001b[39m))\n\u001b[1;32m----> 5\u001b[0m \u001b[38;5;28;01massert\u001b[39;00m second\u001b[38;5;241m!=\u001b[39m\u001b[38;5;241m0\u001b[39m,\u001b[38;5;124m'\u001b[39m\u001b[38;5;124mDenominator is zero\u001b[39m\u001b[38;5;124m'\u001b[39m\n\u001b[0;32m      6\u001b[0m res \u001b[38;5;241m=\u001b[39m func(first,second)\n\u001b[0;32m      7\u001b[0m \u001b[38;5;28mprint\u001b[39m(\u001b[38;5;124m\"\u001b[39m\u001b[38;5;124mThe result is : \u001b[39m\u001b[38;5;124m\"\u001b[39m,res)\n",
      "\u001b[1;31mAssertionError\u001b[0m: Denominator is zero"
     ]
    }
   ],
   "source": [
    "\n",
    "\n",
    "first = int(input(\"Enter the first number : \"))\n",
    "second = int(input(\"Enter the second number : \"))\n",
    "assert second!=0,'Denominator is zero'\n",
    "res = func(first,second)\n",
    "print(\"The result is : \",res)\n",
    "print('After assretion')\n",
    "func(first,second)"
   ]
  },
  {
   "cell_type": "code",
   "execution_count": null,
   "id": "cefe4ae2",
   "metadata": {},
   "outputs": [],
   "source": []
  },
  {
   "cell_type": "markdown",
   "id": "3baf0b0c",
   "metadata": {},
   "source": [
    "# Q3.Write a program that accepts n positive integers as input and prints their square. If a negative number is entered, then raise ValueError exception and display a relevant error message and make an exit."
   ]
  },
  {
   "cell_type": "code",
   "execution_count": 5,
   "id": "d9dcb52a",
   "metadata": {},
   "outputs": [
    {
     "name": "stdout",
     "output_type": "stream",
     "text": [
      "Enter the n positive interger : 3\n",
      "1, 4, 9, \n",
      "End of the program\n"
     ]
    }
   ],
   "source": [
    "\n",
    "class Squares(object):\n",
    "    def __init__(self,l):\n",
    "        self._limit =l\n",
    "        self._val = 1\n",
    "    def __iter__(self):\n",
    "        return self\n",
    "    def __next__(self):\n",
    "        if self._val > self._limit:\n",
    "             raise StopIteration\n",
    "                \n",
    "        else:\n",
    "            result = self._val * self._val\n",
    "            self._val += 1\n",
    "            return result\n",
    "\n",
    "            \n",
    "            \n",
    "num = int(input(\"Enter the n positive interger : \"))        \n",
    "        \n",
    "        \n",
    "try:\n",
    "    if num < 0:\n",
    "        raise ValueError()\n",
    "        \n",
    "except ValueError as v:\n",
    "    print('Enter the positive integer of n')\n",
    "    \n",
    "for i in Squares(num):\n",
    "      print(i,end = ', ')\n",
    "\n",
    "    \n",
    "print('\\nEnd of the program')       \n",
    "    "
   ]
  },
  {
   "cell_type": "code",
   "execution_count": null,
   "id": "03dfe569",
   "metadata": {},
   "outputs": [],
   "source": []
  },
  {
   "cell_type": "markdown",
   "id": "a53c42af",
   "metadata": {},
   "source": [
    "# Q4.Write a program that receives an integer as input and finds its factorial. If a non-integer input is entered, then report an error and accept the input again. Continue this process until correct input is entered."
   ]
  },
  {
   "cell_type": "code",
   "execution_count": null,
   "id": "4ed00ae8",
   "metadata": {},
   "outputs": [],
   "source": [
    "\n",
    "def factorial(n):\n",
    "    f = 1\n",
    "    for i in range(n):\n",
    "        f *= (i+1)\n",
    "    return f\n",
    "\n",
    "while True:\n",
    "     try:\n",
    "         n = int(input(\"Enter the number/string : \"))\n",
    "         if(isinstance(n,int) == True):\n",
    "                print(factorial(n))\n",
    "                \n",
    "         else:\n",
    "             continue\n",
    "         \n",
    "     except Exception as e:\n",
    "         print(e)\n",
    "                "
   ]
  },
  {
   "cell_type": "code",
   "execution_count": null,
   "id": "ed19f8a1",
   "metadata": {},
   "outputs": [],
   "source": []
  },
  {
   "cell_type": "markdown",
   "id": "28006b51",
   "metadata": {},
   "source": [
    "# Q5.Create an iterator that returns numbers, starting with 1, and each sequence will increase by one (returning 1,2,3,4,5 etc.):\n"
   ]
  },
  {
   "cell_type": "code",
   "execution_count": 10,
   "id": "85861410",
   "metadata": {},
   "outputs": [
    {
     "name": "stdout",
     "output_type": "stream",
     "text": [
      "Enter the integer : 5\n",
      "The sequence of 1 to  5  is : \n",
      "1\n",
      "2\n",
      "3\n",
      "4\n",
      "5\n"
     ]
    }
   ],
   "source": [
    "\n",
    "class Seq(object):\n",
    "     def __init__(self,l):\n",
    "         self._limit =l\n",
    "         self._val = 1\n",
    "            \n",
    "     def __iter__(self):\n",
    "         return self\n",
    "        \n",
    "     def __next__(self):\n",
    "          if self._val > self._limit:\n",
    "                raise StopIteration\n",
    "         \n",
    "          else:\n",
    "              result = self._val\n",
    "              self._val += 1\n",
    "              return result\n",
    "\n",
    "\n",
    "              \n",
    "            \n",
    "n = int(input(\"Enter the integer : \"))\n",
    "print('The sequence of 1 to ',n,' is : ')\n",
    "for i in Seq(n):\n",
    "    print(i,end='\\n')\n"
   ]
  },
  {
   "cell_type": "code",
   "execution_count": null,
   "id": "be365dc5",
   "metadata": {},
   "outputs": [],
   "source": []
  },
  {
   "cell_type": "markdown",
   "id": "b9b2535a",
   "metadata": {},
   "source": [
    "# Q6.Write a program that implements iterator class called Prime and which prints prime numbers up to n."
   ]
  },
  {
   "cell_type": "code",
   "execution_count": 12,
   "id": "9fea5529",
   "metadata": {},
   "outputs": [
    {
     "name": "stdout",
     "output_type": "stream",
     "text": [
      "Starting...\n",
      "Enter an integer :10\n",
      "2\n",
      "3\n",
      "5\n",
      "7\n",
      "End of the program\n"
     ]
    }
   ],
   "source": [
    "\n",
    "def Prime(n):\n",
    "    if(n==1 or n==0):\n",
    "        return False\n",
    "    for i in range(2,n):\n",
    "         if(n%i==0):\n",
    "             return False\n",
    "                \n",
    "    return True\n",
    "print(\"Starting...\")\n",
    "\n",
    "try:\n",
    "    n = int(input('Enter an integer :'))\n",
    "    for i in range(2,n):\n",
    "       if(Prime(i)):\n",
    "            print(i,end=\"\\n\")\n",
    "    \n",
    "except Exception:\n",
    "        print(\"Exception Occured at runtime\")\n",
    "\n",
    "finally:\n",
    "     print(\"End of the program\")\n",
    "    \n",
    "        \n",
    "    "
   ]
  },
  {
   "cell_type": "code",
   "execution_count": null,
   "id": "cf8e5a3d",
   "metadata": {},
   "outputs": [],
   "source": []
  },
  {
   "cell_type": "markdown",
   "id": "628e8f7e",
   "metadata": {},
   "source": [
    "# Q7.Define a class, Circle, which takes two arguments when defined — a sequence and a number. The idea is that the object will then return elements the defined number of times. If the number is greater than the number of elements, then the sequence repeats as necessary."
   ]
  },
  {
   "cell_type": "code",
   "execution_count": 13,
   "id": "c39c4084",
   "metadata": {},
   "outputs": [
    {
     "name": "stdout",
     "output_type": "stream",
     "text": [
      "['a', 'b', 'c', 'd', 'a', 'b', 'c']\n"
     ]
    }
   ],
   "source": [
    "\n",
    "class Circle():\n",
    "    def __init__(self,data,max_times):\n",
    "        self.data = data\n",
    "        self.max_times = max_times\n",
    "        self.index = 0\n",
    "     \n",
    "     \n",
    "    def __iter__(self):\n",
    "        return self\n",
    "    \n",
    "    \n",
    "    def __next__(self):\n",
    "        if self.index >= self.max_times:\n",
    "            raise StopIteration\n",
    "        value = self.data[self.index % len(self.data)]\n",
    "        self.index += 1\n",
    "        return value\n",
    "        \n",
    "c = Circle('abcd', 7)\n",
    "print(list(c))"
   ]
  },
  {
   "cell_type": "code",
   "execution_count": null,
   "id": "9dbaaba5",
   "metadata": {},
   "outputs": [],
   "source": []
  },
  {
   "cell_type": "markdown",
   "id": "4bce6a0a",
   "metadata": {},
   "source": [
    "# Q8.Write a Python program to demonstrate working of iterators using an example type that iterates from 10 to given value"
   ]
  },
  {
   "cell_type": "code",
   "execution_count": 14,
   "id": "edf136fc",
   "metadata": {},
   "outputs": [
    {
     "name": "stdout",
     "output_type": "stream",
     "text": [
      "Enter a value :34\n",
      "10\n",
      "11\n",
      "12\n",
      "13\n",
      "14\n",
      "15\n",
      "16\n",
      "17\n",
      "18\n",
      "19\n",
      "20\n",
      "21\n",
      "22\n",
      "23\n",
      "24\n",
      "25\n",
      "26\n",
      "27\n",
      "28\n",
      "29\n",
      "30\n",
      "31\n",
      "32\n",
      "33\n",
      "34\n"
     ]
    }
   ],
   "source": [
    "#Q8:\n",
    "class Test:\n",
    "    def __init__(self, limit):\n",
    "        self.limit = limit\n",
    "    \n",
    "    def __iter__(self):\n",
    "        self.x = 10\n",
    "        return self\n",
    "    def __next__(self):\n",
    "         x = self.x\n",
    "         if x > self.limit:\n",
    "            raise StopIteration\n",
    "         self.x = x + 1;\n",
    "         return x\n",
    "        \n",
    "\n",
    "n=int(input('Enter a value :'))\n",
    "for i in Test(n):\n",
    "    print(i)\n",
    "    "
   ]
  },
  {
   "cell_type": "code",
   "execution_count": null,
   "id": "91bd70b7",
   "metadata": {},
   "outputs": [],
   "source": []
  },
  {
   "cell_type": "markdown",
   "id": "c041f7ee",
   "metadata": {},
   "source": [
    "# Q9.Write a program to illustrate the concept of multiple decorators"
   ]
  },
  {
   "cell_type": "code",
   "execution_count": 15,
   "id": "aade46e4",
   "metadata": {},
   "outputs": [
    {
     "name": "stdout",
     "output_type": "stream",
     "text": [
      "##################################################\n",
      "$$$$$$$$$$$$$$$$$$$$$$$$$$$$$$$$$$$$$$$$$$$$$$$$$$\n",
      "Multiple Decorators\n",
      "$$$$$$$$$$$$$$$$$$$$$$$$$$$$$$$$$$$$$$$$$$$$$$$$$$\n",
      "##################################################\n"
     ]
    }
   ],
   "source": [
    "\n",
    "def ash(func):\n",
    "     def inner(*args,**kwargs):\n",
    "         print('#'* 50)\n",
    "         func(*args,**kwargs)\n",
    "         print('#'*50)\n",
    "     return inner\n",
    "\n",
    "def dollar(func):\n",
    "    def inner(*args,**kwargs):\n",
    "        print('$'* 50)\n",
    "        func(*args,**kwargs)\n",
    "        print('$'*50)\n",
    "    return inner  \n",
    "    \n",
    "        \n",
    "        \n",
    "@ash\n",
    "@dollar\n",
    "def message(msg):\n",
    "    print(msg)\n",
    "message('Multiple Decorators')       \n",
    "    "
   ]
  },
  {
   "cell_type": "code",
   "execution_count": null,
   "id": "59789153",
   "metadata": {},
   "outputs": [],
   "source": []
  },
  {
   "cell_type": "markdown",
   "id": "b2de7446",
   "metadata": {},
   "source": [
    "# Q10.Write a decorator called timer that calculates the time required to execute a function. Its wrapper function called calculates should take all the parameters that are passed to the decorated function"
   ]
  },
  {
   "cell_type": "code",
   "execution_count": 16,
   "id": "8809a503",
   "metadata": {},
   "outputs": [
    {
     "name": "stdout",
     "output_type": "stream",
     "text": [
      "Enter the number : 5\n",
      "Program Execution timing is :::        0.0000097000secs\n",
      "Factorial of  5  is:  120\n"
     ]
    }
   ],
   "source": [
    "\n",
    "import time\n",
    "\n",
    "def timer(func):\n",
    "    def calculates(*args,**kwargs):\n",
    "        start_time = time.perf_counter()\n",
    "        value = func(*args,**kwargs)\n",
    "        end_time = time.perf_counter()\n",
    "        runtime = end_time - start_time\n",
    "        print('Program Execution timing is :::{0:20.10f}secs'.format(runtime))\n",
    "        return value\n",
    "    return calculates\n",
    "\n",
    "@timer\n",
    "def factorial(n):\n",
    "    f = 1\n",
    "    for i in range(n):\n",
    "        f *= (i+1)\n",
    "    return f\n",
    "n = int(input(\"Enter the number : \"))\n",
    "print('Factorial of ',n,' is: ',factorial(n))"
   ]
  },
  {
   "cell_type": "code",
   "execution_count": null,
   "id": "2a668b92",
   "metadata": {},
   "outputs": [],
   "source": []
  },
  {
   "cell_type": "code",
   "execution_count": null,
   "id": "148d5ec2",
   "metadata": {},
   "outputs": [],
   "source": []
  },
  {
   "cell_type": "code",
   "execution_count": null,
   "id": "0c8eb8fd",
   "metadata": {},
   "outputs": [],
   "source": []
  },
  {
   "cell_type": "code",
   "execution_count": null,
   "id": "f2046d3b",
   "metadata": {},
   "outputs": [],
   "source": []
  },
  {
   "cell_type": "code",
   "execution_count": null,
   "id": "9dee5468",
   "metadata": {},
   "outputs": [],
   "source": []
  },
  {
   "cell_type": "code",
   "execution_count": null,
   "id": "7388bd5c",
   "metadata": {},
   "outputs": [],
   "source": []
  }
 ],
 "metadata": {
  "kernelspec": {
   "display_name": "Python 3 (ipykernel)",
   "language": "python",
   "name": "python3"
  },
  "language_info": {
   "codemirror_mode": {
    "name": "ipython",
    "version": 3
   },
   "file_extension": ".py",
   "mimetype": "text/x-python",
   "name": "python",
   "nbconvert_exporter": "python",
   "pygments_lexer": "ipython3",
   "version": "3.9.12"
  }
 },
 "nbformat": 4,
 "nbformat_minor": 5
}
