{
 "cells": [
  {
   "cell_type": "markdown",
   "id": "3b550705",
   "metadata": {},
   "source": [
    "# Q1. Create a class called number which contains an integer. It should contain various methods to set the value of the integer, return the integer value, print the integer value, check whether the integer is negative."
   ]
  },
  {
   "cell_type": "code",
   "execution_count": 1,
   "id": "20b9062b",
   "metadata": {},
   "outputs": [
    {
     "name": "stdout",
     "output_type": "stream",
     "text": [
      "Enter the integer : -20\n",
      "Return Integer is :  -20\n",
      "Print the integer is :  -20\n",
      "************************************************************\n",
      "-20 is the negative integer.\n",
      "* * * * * * * * * * * * * * * * * * * * * * * * * * * * * * * * * * * * * * * * * * * * * * * * * * * * * * * * * * * * \n"
     ]
    }
   ],
   "source": [
    "class Number:\n",
    "    '''Check whether the integer is negative or not'''\n",
    "\n",
    "    def set_integer(self):\n",
    "        self._num = int(input(\"Enter the integer : \"))\n",
    "    def rtn_integer(self):\n",
    "        print(\"Return Integer is : \",str(self._num))\n",
    "\n",
    "    def print_integer(self):\n",
    "        print('Print the integer is : ',str(self._num))\n",
    "    def check_integer(self):\n",
    "        print('*' * 60)\n",
    "        if self._num > 0 or self._num == 0:\n",
    "            print(str(self._num) + ' is the positve integer.')\n",
    "        else:\n",
    "            print(str(self._num) + ' is the negative integer.')\n",
    "        print(\"* \" * 60)\n",
    "num = Number()\n",
    "num.set_integer()\n",
    "num.rtn_integer()\n",
    "num.print_integer()\n",
    "num.check_integer()"
   ]
  },
  {
   "cell_type": "code",
   "execution_count": null,
   "id": "f50db12f",
   "metadata": {},
   "outputs": [],
   "source": []
  },
  {
   "cell_type": "markdown",
   "id": "ee2dfe98",
   "metadata": {},
   "source": [
    "# Q2.Create a class that can calculate the perimeter/ circumference and area of a regular shape. The class should also have a provision to accept the data relevant to the shape."
   ]
  },
  {
   "cell_type": "code",
   "execution_count": 2,
   "id": "cf1c6d40",
   "metadata": {},
   "outputs": [
    {
     "name": "stdout",
     "output_type": "stream",
     "text": [
      "Area of the square is :  100\n",
      "**************************************************\n",
      "Perimeter / Circumference of the square is :  40\n"
     ]
    }
   ],
   "source": [
    "class square:\n",
    "    '''Area and perimeter of a square.'''\n",
    "    def __init__(self,a):\n",
    "        self._area = a\n",
    "    def area_of_square(self):\n",
    "        print(\"Area of the square is : \",self._area * self._area)\n",
    "    def perimeter_of_square(self):\n",
    "        print('*' * 50)\n",
    "        print(\"Perimeter / Circumference of the square is : \", 4 * self._area)\n",
    "              \n",
    "s= square(10)\n",
    "s.area_of_square()\n",
    "s.perimeter_of_square()"
   ]
  },
  {
   "cell_type": "code",
   "execution_count": null,
   "id": "177b0d9a",
   "metadata": {},
   "outputs": [],
   "source": []
  },
  {
   "cell_type": "markdown",
   "id": "dc0acc8d",
   "metadata": {},
   "source": [
    "# Q3.Create a class called student which contains the data members called rollno, sname and branch. The class should contain methods to initialize the data members and to set and display data members. Finally, the class should contain the __del__ method to release the memory at the time of object destruction. Test your class with at least two objects of the student class"
   ]
  },
  {
   "cell_type": "code",
   "execution_count": 3,
   "id": "a085b6c2",
   "metadata": {},
   "outputs": [
    {
     "name": "stdout",
     "output_type": "stream",
     "text": [
      "Deleting the object... <__main__.Student object at 0x00000196BB864B50>\n",
      "The student Aravindh Roll.No is 26 and the branch is : CSE\n",
      "* * * * * * * * * * * * * * * * * * * * * * * * * * * * * * * * * * * * * * * * * * * * * * * * * * \n",
      "Deleting the object... <__main__.Student object at 0x00000196BB847C40>\n",
      "The student Aravindh Roll.No is 37 and the branch is : CSE\n"
     ]
    }
   ],
   "source": [
    "class Student:\n",
    "    def __init__(self,r=0,s='',b=''):\n",
    "        self._rno = r\n",
    "        self._name = s\n",
    "        self._branch = b\n",
    "    \n",
    "    def set_data(self,r,s,b):\n",
    "         self._rno = r\n",
    "         self._name = s\n",
    "         self._branch = b\n",
    "          \n",
    "    def display_data(self):\n",
    "         print('The student '+self._name+ ' Roll.No is '+ str(self._rno)+' and the branch is :',self._branch)\n",
    "    def __del__(self):\n",
    "        print(\"Deleting the object...\",str(self))\n",
    "stu = Student(26,'Aravindh','CSE')\n",
    "stu.display_data()\n",
    "print('* ' * 50)\n",
    "stu1 = Student(37,'Aravindh','CSE')\n",
    "stu1.display_data()      \n",
    "        "
   ]
  },
  {
   "cell_type": "code",
   "execution_count": null,
   "id": "65b2c679",
   "metadata": {},
   "outputs": [],
   "source": []
  },
  {
   "cell_type": "markdown",
   "id": "a9407964",
   "metadata": {},
   "source": [
    "# Q4.Modify the student class defined in Q. No. 1 in so that it now includes a class variable to count the number of student objects created from this class and also add a class function in order to display the value of the class variable. The modified class should be named as student1 class."
   ]
  },
  {
   "cell_type": "code",
   "execution_count": 4,
   "id": "b43cc6e4",
   "metadata": {},
   "outputs": [
    {
     "name": "stdout",
     "output_type": "stream",
     "text": [
      "Deleting the object... <__main__.Student object at 0x00000196BB882700>\n",
      "Deleting the object... <__main__.Student object at 0x00000196BB8641C0>\n",
      "Number of student object created so far :  3\n"
     ]
    }
   ],
   "source": [
    "class Student1:\n",
    "    c = 0\n",
    "    def __init__(self,r=0,s='',b=''):\n",
    "        Student1.count()\n",
    "        self._rno = r\n",
    "        self._name = s\n",
    "        self._branch = b\n",
    "        \n",
    "    def set_data(self,r,s,b):\n",
    "        self._rno = r\n",
    "        self._name = s\n",
    "        self._branch = b\n",
    "    def display_data(self):\n",
    "        print('The student '+self._name+ ' Roll.No is '+ str(self._rno)+' and the branch is :',self._branch)\n",
    "    @classmethod\n",
    "    def count(cls):\n",
    "         cls.c += 1\n",
    "        \n",
    "        \n",
    "stu = Student1(26,'Aravindh','ECE')\n",
    "stu1 = Student1(37,'Gayu','ECE')\n",
    "stu3 = Student1()\n",
    "print(\"Number of student object created so far : \",Student1.c)\n",
    "       \n",
    "    "
   ]
  },
  {
   "cell_type": "code",
   "execution_count": null,
   "id": "cfde1969",
   "metadata": {},
   "outputs": [],
   "source": []
  },
  {
   "cell_type": "markdown",
   "id": "4f8122a8",
   "metadata": {},
   "source": [
    "# Q5.Apply the vars() and dir() global function on student and student1 classes"
   ]
  },
  {
   "cell_type": "code",
   "execution_count": 11,
   "id": "aa43d69f",
   "metadata": {},
   "outputs": [
    {
     "name": "stdout",
     "output_type": "stream",
     "text": [
      "Global vars function to class student\n",
      "{'__module__': '__main__', '__init__': <function Student.__init__ at 0x00000196BB84DF70>, 'marks': <function Student.marks at 0x00000196BC8720D0>, '__str__': <function Student.__str__ at 0x00000196BC872160>, '__doc__': None}\n",
      "************************************************************************************************************************\n",
      "Global vars function to class student1\n",
      "{'__module__': '__main__', '__init__': <function Student1.__init__ at 0x00000196BB894310>, 'disp_data': <function Student1.disp_data at 0x00000196BB894F70>, '__doc__': None}\n",
      "************************************************************************************************************************\n",
      "Global dir function to class student\n",
      "['__class__', '__delattr__', '__dict__', '__dir__', '__doc__', '__eq__', '__format__', '__ge__', '__getattribute__', '__gt__', '__hash__', '__init__', '__init_subclass__', '__le__', '__lt__', '__module__', '__ne__', '__new__', '__reduce__', '__reduce_ex__', '__repr__', '__setattr__', '__sizeof__', '__str__', '__subclasshook__', '__weakref__', 'marks']\n",
      "************************************************************************************************************************\n",
      "Global dir function to class student1\n",
      "['__class__', '__delattr__', '__dict__', '__dir__', '__doc__', '__eq__', '__format__', '__ge__', '__getattribute__', '__gt__', '__hash__', '__init__', '__init_subclass__', '__le__', '__lt__', '__module__', '__ne__', '__new__', '__reduce__', '__reduce_ex__', '__repr__', '__setattr__', '__sizeof__', '__str__', '__subclasshook__', '__weakref__', 'disp_data']\n"
     ]
    }
   ],
   "source": [
    "\n",
    "print(\"Global vars function to class student\")\n",
    "print(vars(Student))\n",
    "print('*' * 120)\n",
    "print(\"Global vars function to class student1\")\n",
    "print(vars(Student1))\n",
    "print('*' * 120)\n",
    "print(\"Global dir function to class student\")\n",
    "print(dir(Student))\n",
    "print('*' * 120)\n",
    "print(\"Global dir function to class student1\")\n",
    "print(dir(Student1))"
   ]
  },
  {
   "cell_type": "code",
   "execution_count": null,
   "id": "01a9529b",
   "metadata": {},
   "outputs": [],
   "source": []
  },
  {
   "cell_type": "markdown",
   "id": "fd062a86",
   "metadata": {},
   "source": [
    "# Q6.Create a class called Date. It should contain data members day, month and year. It should also contain functions to set and display date, as well as function to initialize date objects. Overload the == operator to check if two dates are equal"
   ]
  },
  {
   "cell_type": "code",
   "execution_count": 12,
   "id": "096e7dee",
   "metadata": {},
   "outputs": [
    {
     "name": "stdout",
     "output_type": "stream",
     "text": [
      "Check 1 :  Both Dates are Equal\n",
      "Check 2 :  Both Dates are not equal\n"
     ]
    }
   ],
   "source": [
    "\n",
    "class Date:\n",
    "    '''Method Overloading'''\n",
    "    def __init__(self,d=0,m=0,y=0):\n",
    "        self._day = d\n",
    "        self._month = m\n",
    "        self._year = y\n",
    "    def __eq__(self,other):\n",
    "        if self._day == other._day and self._month == other._month and self._year == other._year:\n",
    "            return 'Both Dates are Equal'\n",
    "        else:\n",
    "             return 'Both Dates are not equal'\n",
    "        def __str__(self):\n",
    "             print('Equals of ' + str(self._year) + ' and ' + str(self.other))\n",
    "            \n",
    "            \n",
    "            \n",
    "        \n",
    "d = Date(15,9,1998)\n",
    "d1 = Date(15,9,1998)\n",
    "print(\"Check 1 : \", d == d1)\n",
    "d2 = Date(19,5,1999)\n",
    "d3 = Date(15,9,1998)\n",
    "print(\"Check 2 : \", d2 == d3)\n",
    "#rint(Date.__docstring__)\n",
    "        "
   ]
  },
  {
   "cell_type": "code",
   "execution_count": null,
   "id": "d159a5f7",
   "metadata": {},
   "outputs": [],
   "source": []
  },
  {
   "cell_type": "markdown",
   "id": "10b4c0bc",
   "metadata": {},
   "source": [
    "# Q7.Create a class called weather that has a list containing weather parameters. Overload the in operator that checks whether an item is present in the list or not."
   ]
  },
  {
   "cell_type": "code",
   "execution_count": 13,
   "id": "645ac39a",
   "metadata": {},
   "outputs": [
    {
     "name": "stdout",
     "output_type": "stream",
     "text": [
      "Deleting the object... <__main__.Weather object at 0x00000196BB882BE0>\n",
      "Item not present in the list named as ,  moisture\n",
      " * * * * * * * * * * * * * * * * * * * * * * * * * * * * * * * * * * * * * * * * * * * * * * * * * *\n",
      "Deleting the object... <__main__.Weather object at 0x00000196BB8825E0>\n",
      "Item present in the list named as , Temperature\n"
     ]
    }
   ],
   "source": [
    "\n",
    "class Weather:\n",
    "     def __init__(self,t,c,f):\n",
    "            self._temperature = t\n",
    "            self._celsius = c\n",
    "            self._farenheit = f\n",
    "            self.list = [self._temperature,self._celsius,self._farenheit]\n",
    "     \n",
    "     def set_data(self,t,c,f):\n",
    "             self._temperature = t\n",
    "             self._celsius = c\n",
    "             self._farenheit = f\n",
    "     def weather_display(self):\n",
    "           return self.list\n",
    "     def check(self,w):\n",
    "        if w in self.list:\n",
    "            print(\"Item present in the list named as ,\",str(w))\n",
    "        else:\n",
    "            print(\"Item not present in the list named as , \",str(w))\n",
    "            \n",
    "     def __del__(self):\n",
    "        print(\"Deleting the object...\",str(self))\n",
    "        \n",
    "\n",
    "wh = Weather(\"Temperature\",\"Celsius\",\"Farenheit\")\n",
    "wh.weather_display()\n",
    "wh.check('moisture')\n",
    "print(' *' * 50)\n",
    "wh1 = Weather(\"Temperature\",\"Celsius\",\"Moisture\")\n",
    "wh1.weather_display()\n",
    "wh1.check('Temperature')\n"
   ]
  },
  {
   "cell_type": "code",
   "execution_count": null,
   "id": "71a5e89f",
   "metadata": {},
   "outputs": [],
   "source": []
  },
  {
   "cell_type": "markdown",
   "id": "71b850ad",
   "metadata": {},
   "source": [
    "# Q8.Create a class called complex containing real and imaginary parts and then use it to check whether two objects are of the same type, whether their attributes are same and whether they are pointing to the same object"
   ]
  },
  {
   "cell_type": "code",
   "execution_count": 8,
   "id": "07338dbb",
   "metadata": {},
   "outputs": [
    {
     "name": "stdout",
     "output_type": "stream",
     "text": [
      "Check 1:\n",
      "Two objects,and their attributes and objects are not same <class '__main__.Complex'> <class '__main__.Complex'>\n",
      "************************************************************\n",
      "Check 2\n",
      "Two objects,and their attributes and objects are same <class '__main__.Complex'> <class '__main__.Complex'>\n"
     ]
    }
   ],
   "source": [
    "#q8:\n",
    "class Complex:\n",
    "    def __init__(self,r,i=''):\n",
    "        self._real = r\n",
    "        self._imaginary = i\n",
    "        \n",
    "    def __eq__(self,self1):\n",
    "         if self._real == self1._real and self._imaginary == self1._imaginary and type(c1) == type(c2):\n",
    "             print(\"Two objects,and their attributes and objects are same\",type(c1),type(c2))\n",
    "         else:\n",
    "             print(\"Two objects,and their attributes and objects are not same\",type(c1),type(c2))\n",
    "            \n",
    "        \n",
    "print(\"Check 1:\")\n",
    "c1 = Complex(3,'-2j')\n",
    "c2 = Complex(2,'-2j')\n",
    "c1 == c2\n",
    "print('*' * 60)\n",
    "print(\"Check 2\")\n",
    "c3 = Complex(2,'-2j')\n",
    "c4 = Complex(2,'-2j')\n",
    "c3 == c4\n",
    "        \n",
    "    \n"
   ]
  },
  {
   "cell_type": "code",
   "execution_count": null,
   "id": "d33fdc0f",
   "metadata": {},
   "outputs": [],
   "source": []
  },
  {
   "cell_type": "markdown",
   "id": "aa95c9a1",
   "metadata": {},
   "source": [
    "# Q9.Create a class called department with the attributes deptname and deptid. Modify the student class defined in Q.No. 3 such that it contains an object of department class. Name the new modified student class as student2."
   ]
  },
  {
   "cell_type": "code",
   "execution_count": 9,
   "id": "e6ed7873",
   "metadata": {},
   "outputs": [
    {
     "name": "stdout",
     "output_type": "stream",
     "text": [
      "The Department name as : BE\n",
      "Department id as : 1613126\n",
      "Year of starting is : 4\n"
     ]
    }
   ],
   "source": [
    "\n",
    "class Department:\n",
    "     def __init__(self,dpname,dpid):\n",
    "            self._dpname = dpname\n",
    "            self._dpid = dpid\n",
    "    \n",
    "     def __str__(self):\n",
    "             return self._dpname + ' id is '+ str(self._dpid)\n",
    "            \n",
    "\n",
    "            \n",
    "class Student1(Department):\n",
    "    def __init__(self,dpname,dpid,dpyear):\n",
    "        super().__init__(dpname,dpid)\n",
    "        self._dpyear = dpyear\n",
    "    \n",
    "    def disp_data(self):\n",
    "        print('The Department name as : '+self._dpname+ '\\nDepartment id as : '+ str(self._dpid)+'\\nYear of starting is :',self._dpyear)\n",
    "        \n",
    "        \n",
    "s1 = Student1(\"BE\",1613126,4)         \n",
    "s1.disp_data()\n",
    "#dep.display_data()    \n",
    "            "
   ]
  },
  {
   "cell_type": "code",
   "execution_count": null,
   "id": "def2367c",
   "metadata": {},
   "outputs": [],
   "source": []
  },
  {
   "cell_type": "markdown",
   "id": "5a2fc273",
   "metadata": {},
   "source": [
    "# Q10.Create a class called Person. From this class, inherit another class called student. Assume suitable data members and member functions for these two classes. In both the classes, define the __str__ function and demonstrate method overriding.  "
   ]
  },
  {
   "cell_type": "code",
   "execution_count": 10,
   "id": "a8643439",
   "metadata": {},
   "outputs": [
    {
     "name": "stdout",
     "output_type": "stream",
     "text": [
      "The person :  Aravindh is 23 years old\n",
      "40  : is a pass mark\n"
     ]
    }
   ],
   "source": [
    "#q10:\n",
    "class Person:\n",
    "    def __init__(self,n,a):\n",
    "        self._name = n\n",
    "        self._age = a\n",
    "    def __str__(self):\n",
    "        return self._name + ' is ' + str(self._age) + ' years old'\n",
    "class Student(Person):\n",
    "     def __init__(self,n,a,i):\n",
    "         super().__init__(n,a)\n",
    "         self._id = i\n",
    "         \n",
    "     def marks(self,grade):\n",
    "         if grade >= 35 :\n",
    "             print(grade, ' : is a pass mark')\n",
    "         else:\n",
    "             print(grade,' : is a fail mark')\n",
    "            \n",
    "     def __str__(self):\n",
    "         return self._name + ' has an the id as ' + str(self._id)\n",
    "\n",
    "\n",
    "p = Person('Aravindh',23)\n",
    "print(\"The person : \",p)\n",
    "s = Student('Gayu',45,372)\n",
    "s.marks(40)\n",
    "        \n",
    "        "
   ]
  },
  {
   "cell_type": "code",
   "execution_count": null,
   "id": "8d730cf2",
   "metadata": {},
   "outputs": [],
   "source": []
  },
  {
   "cell_type": "code",
   "execution_count": null,
   "id": "8a3493f4",
   "metadata": {},
   "outputs": [],
   "source": []
  },
  {
   "cell_type": "code",
   "execution_count": null,
   "id": "f699a505",
   "metadata": {},
   "outputs": [],
   "source": []
  },
  {
   "cell_type": "code",
   "execution_count": null,
   "id": "44602c0e",
   "metadata": {},
   "outputs": [],
   "source": []
  },
  {
   "cell_type": "code",
   "execution_count": null,
   "id": "06667939",
   "metadata": {},
   "outputs": [],
   "source": []
  },
  {
   "cell_type": "code",
   "execution_count": null,
   "id": "5829743a",
   "metadata": {},
   "outputs": [],
   "source": []
  },
  {
   "cell_type": "code",
   "execution_count": null,
   "id": "d7fdd264",
   "metadata": {},
   "outputs": [],
   "source": []
  },
  {
   "cell_type": "code",
   "execution_count": null,
   "id": "b9874c67",
   "metadata": {},
   "outputs": [],
   "source": []
  },
  {
   "cell_type": "code",
   "execution_count": null,
   "id": "41e2efca",
   "metadata": {},
   "outputs": [],
   "source": []
  },
  {
   "cell_type": "code",
   "execution_count": null,
   "id": "30632f3f",
   "metadata": {},
   "outputs": [],
   "source": []
  }
 ],
 "metadata": {
  "kernelspec": {
   "display_name": "Python 3 (ipykernel)",
   "language": "python",
   "name": "python3"
  },
  "language_info": {
   "codemirror_mode": {
    "name": "ipython",
    "version": 3
   },
   "file_extension": ".py",
   "mimetype": "text/x-python",
   "name": "python",
   "nbconvert_exporter": "python",
   "pygments_lexer": "ipython3",
   "version": "3.9.12"
  }
 },
 "nbformat": 4,
 "nbformat_minor": 5
}
