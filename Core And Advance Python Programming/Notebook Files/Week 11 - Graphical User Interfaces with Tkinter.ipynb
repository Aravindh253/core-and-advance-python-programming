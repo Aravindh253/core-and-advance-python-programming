{
 "cells": [
  {
   "cell_type": "markdown",
   "id": "779c422e",
   "metadata": {},
   "source": [
    "# Q1.Create a simple tkinter application to display a welcome message in a window using the label widget.\n",
    " "
   ]
  },
  {
   "cell_type": "code",
   "execution_count": 1,
   "id": "f83e1493",
   "metadata": {},
   "outputs": [],
   "source": [
    "from tkinter import *\n",
    "window = Tk()\n",
    "label=Label(window,text='Welcome to Tkinter')\n",
    "label.grid(row=0,column=2)\n",
    "window.mainloop()"
   ]
  },
  {
   "cell_type": "code",
   "execution_count": null,
   "id": "b1e30673",
   "metadata": {},
   "outputs": [],
   "source": []
  },
  {
   "cell_type": "markdown",
   "id": "0cc213e6",
   "metadata": {},
   "source": [
    "# Q2.Create tkinter application to accept user name in a text widget. Then display the user name with a welcome message in a label widget\n",
    " "
   ]
  },
  {
   "cell_type": "code",
   "execution_count": 4,
   "id": "031a3ab3",
   "metadata": {},
   "outputs": [
    {
     "name": "stdout",
     "output_type": "stream",
     "text": [
      "Successfully Printed \n"
     ]
    }
   ],
   "source": [
    "from tkinter import *\n",
    "window = Tk()\n",
    "def accept():\n",
    "    name = str(t.get(1.0,'end-1c'))\n",
    "    l.config(text='Welcome '+ str(name))\n",
    "    print('Successfully Printed ')\n",
    "t = Text(window,height=5,width=20)\n",
    "t.pack()\n",
    "l= Label(window)\n",
    "l.pack()\n",
    "b = Button(window,text='Click',command=accept)\n",
    "b.pack()\n",
    "window.mainloop()\n"
   ]
  },
  {
   "cell_type": "code",
   "execution_count": null,
   "id": "26fd2037",
   "metadata": {},
   "outputs": [],
   "source": []
  },
  {
   "cell_type": "markdown",
   "id": "b5a4aec7",
   "metadata": {},
   "source": [
    "# Q3.Modify the tkinter application developed in Q.No. 2 so that it uses a grid layout\n",
    " "
   ]
  },
  {
   "cell_type": "code",
   "execution_count": 5,
   "id": "39e17409",
   "metadata": {},
   "outputs": [
    {
     "name": "stdout",
     "output_type": "stream",
     "text": [
      "Successfully Printed \n"
     ]
    }
   ],
   "source": [
    "from tkinter import *\n",
    "window = Tk()\n",
    "def accept():\n",
    "    name = str(t.get(1.0,'end-1c'))\n",
    "    l.config(text='Welcome '+ str(name))\n",
    "    print('Successfully Printed ')\n",
    "    \n",
    "\n",
    "t = Text(window,height=5,width=20)\n",
    "t.grid(row=0,column=0)\n",
    "l= Label(window)\n",
    "l.grid(row=1,column=0)\n",
    "b = Button(window,text='Click',command=accept)\n",
    "b.grid(row=2,column=0)\n",
    "window.mainloop()"
   ]
  },
  {
   "cell_type": "code",
   "execution_count": null,
   "id": "7790402f",
   "metadata": {},
   "outputs": [],
   "source": []
  },
  {
   "cell_type": "markdown",
   "id": "67a65925",
   "metadata": {},
   "source": [
    "# Q4.Create a tkinter application to accept radius of a circle and display the area.\n",
    " "
   ]
  },
  {
   "cell_type": "code",
   "execution_count": 6,
   "id": "aa836146",
   "metadata": {},
   "outputs": [
    {
     "name": "stdout",
     "output_type": "stream",
     "text": [
      "Printed Successfully!\n"
     ]
    }
   ],
   "source": [
    "from tkinter import *\n",
    "window = Tk()\n",
    "\n",
    "def area():\n",
    "    convert = float(e.get())\n",
    "    ar = (convert**2)*3.14\n",
    "    t.delete('1.0',END)\n",
    "    t.insert(END,ar)\n",
    "    print(\"Printed Successfully!\")\\\n",
    "    \n",
    "l1 = Label(window,text='Enter the radius of circle:')\n",
    "l1.grid(row=0,column=0)\n",
    "e = StringVar()\n",
    "e1 = Entry(window,textvariable=e)\n",
    "e1.grid(row=0,column=1)\n",
    "l2 = Label(window,text='Area of circle:')\n",
    "l2.grid(row=1,column=0)\n",
    "t = Text(window,height = 3,width = 20)\n",
    "t.grid(row=1,column=1)\n",
    "b = Button(window,text='Display',command=area)\n",
    "b.grid(row=2,column=1)\n",
    "window.mainloop()"
   ]
  },
  {
   "cell_type": "code",
   "execution_count": null,
   "id": "c07b55ea",
   "metadata": {},
   "outputs": [],
   "source": []
  },
  {
   "cell_type": "markdown",
   "id": "cf1dd25c",
   "metadata": {},
   "source": [
    "# Q5.Create a tkinter application to accept temperature in Celsius and convert and display the temperature in Fahrenheit."
   ]
  },
  {
   "cell_type": "code",
   "execution_count": 12,
   "id": "2b5e3645",
   "metadata": {},
   "outputs": [],
   "source": [
    "from tkinter import *\n",
    "window = Tk()\n",
    "\n",
    "def celsius():\n",
    "    n_celsius = float(a.get())\n",
    "    faren = (in_celsius*(9/5))+32\n",
    "    t.delete('1.0',END)\n",
    "    t.insert(END,faren)\n",
    "    print('Successfully Converted!')\n",
    "l = Label(window,text='Temperature in celsius:')    \n",
    "l.grid(row=0,column=0)\n",
    "a = StringVar()\n",
    "e = Entry(window,textvariable=a)\n",
    "e.grid(row=0,column=1)\n",
    "l1 = Label(window,text='Temperature in Fahrenheit:')\n",
    "l1.grid(row=2,column=0)\n",
    "t = Text(window,height=2,width=10)\n",
    "t.grid(row=2,column=1)\n",
    "b = Button(window,text='Convert',command=celsius)\n",
    "b.grid(row=3,column=1)\n",
    "window.mainloop()"
   ]
  },
  {
   "cell_type": "code",
   "execution_count": null,
   "id": "11cbaeaa",
   "metadata": {},
   "outputs": [],
   "source": []
  },
  {
   "cell_type": "markdown",
   "id": "96b9b9b2",
   "metadata": {},
   "source": [
    "# Q6.Create a tkinter application to accept distance in kilometers and convert and display distance in miles.\n",
    " "
   ]
  },
  {
   "cell_type": "code",
   "execution_count": 13,
   "id": "7dfcb355",
   "metadata": {},
   "outputs": [
    {
     "name": "stdout",
     "output_type": "stream",
     "text": [
      "Successfully Converted!\n"
     ]
    }
   ],
   "source": [
    "from tkinter import *\n",
    "window = Tk()\n",
    "def km_to_miles():\n",
    "    miles = float(km.get())*1.609\n",
    "    t.delete('1.0',END)\n",
    "    t.insert(END,miles)\n",
    "    print('Successfully Converted!')\n",
    "\n",
    "l1 = Label(window,text='Distance in Kilometers:')\n",
    "l1.grid(row=0,column=0)\n",
    "km = StringVar()\n",
    "e = Entry(window,textvariable=km)\n",
    "e.grid(row=0,column=1)\n",
    "l2 = Label(window,text='Distance in miles:')\n",
    "l2.grid(row=1,column=0)\n",
    "t = Text(window,height=1,width=20)\n",
    "t.grid(row=1,column=1)\n",
    "b = Button(window,text='Convert',command=km_to_miles)\n",
    "b.grid(row=2,column=1)\n",
    "window.mainloop()"
   ]
  },
  {
   "cell_type": "code",
   "execution_count": null,
   "id": "6b5c6e23",
   "metadata": {},
   "outputs": [],
   "source": []
  },
  {
   "cell_type": "markdown",
   "id": "7cdb441b",
   "metadata": {},
   "source": [
    "# Q7.Create a tkinter application to display a menu with three items. A separate message should be display when each of the three menu items is clicked."
   ]
  },
  {
   "cell_type": "code",
   "execution_count": 14,
   "id": "99e8c286",
   "metadata": {},
   "outputs": [],
   "source": [
    "from tkinter import *\n",
    "window = Tk()\n",
    "def option1():\n",
    "    l1 = Label(window,text='File Opened')\n",
    "    l1.pack()\n",
    "\n",
    "def option2():\n",
    "    l2 = Label(window,text='File Saved')\n",
    "    l2.pack()\n",
    "def option3():\n",
    "    l3 = Label(window,text='File CLosed')\n",
    "    l3.pack()\n",
    "    \n",
    "m = Menu(window)\n",
    "file1 = Menu(m)    \n",
    "file1.add_command(label='Open',command=option1)\n",
    "file1.add_separator()\n",
    "file1.add_command(label='Save',command=option2)\n",
    "file1.add_command(label='Exit',command=option3)\n",
    "file1.add_separator()\n",
    "m.add_cascade(label='File',menu=file1)\n",
    "window.config(menu=m)\n",
    "window.mainloop()"
   ]
  },
  {
   "cell_type": "code",
   "execution_count": null,
   "id": "b68a7701",
   "metadata": {},
   "outputs": [],
   "source": []
  },
  {
   "cell_type": "markdown",
   "id": "6b8f95a2",
   "metadata": {},
   "source": [
    "# Q8.Create a tkinter application to display a radio button group with three items. A separate message should be display when each of the three radio buttons items is clicked.\n",
    " "
   ]
  },
  {
   "cell_type": "code",
   "execution_count": 16,
   "id": "71e26a69",
   "metadata": {},
   "outputs": [],
   "source": [
    "\n",
    "from tkinter import *\n",
    "window = Tk()\n",
    "def sel():\n",
    "    selection = \"You selected the item  \" + str(var.get())\n",
    "    label.config(text=selection)\n",
    "\n",
    "var = IntVar()\n",
    "R1 = Radiobutton(window,text='Item 1',variable = var, value=1,command=sel)\n",
    "R1.pack()\n",
    "R2 = Radiobutton(window,text='Item 2',variable = var, value=2,command=sel)\n",
    "R2.pack()\n",
    "R3 = Radiobutton(window,text='Item 3',variable = var, value=3,command=sel)\n",
    "R3.pack()\n",
    "label = Label(window)\n",
    "label.pack()\n",
    "window.mainloop()"
   ]
  },
  {
   "cell_type": "code",
   "execution_count": null,
   "id": "d1f54df9",
   "metadata": {},
   "outputs": [],
   "source": []
  },
  {
   "cell_type": "markdown",
   "id": "aeb05885",
   "metadata": {},
   "source": [
    "# Q9.Create a tkinter application to display three check boxes. A separate message should be display when each of the three check boxes items is selected."
   ]
  },
  {
   "cell_type": "code",
   "execution_count": 1,
   "id": "f7df9842",
   "metadata": {},
   "outputs": [],
   "source": [
    "from tkinter import *\n",
    "window = Tk()\n",
    "\n",
    "def item1():\n",
    "    if(Check1.get() == 1):\n",
    "        selection = 'You selected the option python programming'\n",
    "    else:\n",
    "        selection = 'You de-selected the option python programming'\n",
    "    label.config(text=selection)\n",
    "def item2():\n",
    "    if(Check2.get() == 1):\n",
    "        selection = 'You selected the option Tkinter programming'\n",
    "        \n",
    "    else:\n",
    "        selection = 'You de-selected the option Tkinter programming'\n",
    "    label.config(text=selection)\n",
    "    \n",
    "    \n",
    "def item3():    \n",
    "    if(Check3.get() == 1):\n",
    "        selection = 'You selected Pandas'\n",
    "    else:\n",
    "        selection = 'You de-selected the Pandas Options'\n",
    "    label.config(text=selection)   \n",
    "        \n",
    "Check1 = IntVar()   \n",
    "Check2 = IntVar()\n",
    "Check3 = IntVar()\n",
    "C1 = Checkbutton(window,text='Python Programming',variable=Check1,onvalue=1,offvalue=0,height=5,width=20,command=item1)\n",
    "C2 = Checkbutton(window,text='Tkinter',variable=Check2,onvalue=1,offvalue=0,height=5,width=20,command=item2)\n",
    "C3 = Checkbutton(window,text='Pandas',variable=Check3,onvalue=1,offvalue=0,height=5,width=20,command=item3)\n",
    "C1.pack()    \n",
    "C2.pack()\n",
    "C3.pack()\n",
    "\n",
    "label= Label(window)\n",
    "label.pack()\n",
    "window.mainloop()"
   ]
  },
  {
   "cell_type": "code",
   "execution_count": null,
   "id": "649fe508",
   "metadata": {},
   "outputs": [],
   "source": []
  },
  {
   "cell_type": "markdown",
   "id": "44ec9644",
   "metadata": {},
   "source": [
    "# Q10.Create a tkinter application which contains a list box with five items. Whenever an item in the list box is selected, the item’s text should be displayed\n"
   ]
  },
  {
   "cell_type": "code",
   "execution_count": 25,
   "id": "93226000",
   "metadata": {},
   "outputs": [
    {
     "name": "stdout",
     "output_type": "stream",
     "text": [
      "tnkinter\n",
      "numpy\n",
      "pandas\n",
      "python\n",
      "Open-CV\n"
     ]
    }
   ],
   "source": [
    "from tkinter import *\n",
    "window = Tk()\n",
    "def my_upd():\n",
    "    print(l1.get(ACTIVE))  # Get the ACTIVE / selected elements\n",
    "\n",
    "l1= Listbox(window,height=5 )\n",
    "l1.grid(row=1,column=1)\n",
    "my_list=['tnkinter','numpy','pandas','python','Open-CV']\n",
    "for element in my_list:\n",
    "    l1.insert(END,element)\n",
    "    \n",
    "b1 = Button(window,text='Show',width=10,bg='green',command=my_upd)\n",
    "b1.grid(row=1,column=2)\n",
    "window.mainloop()\n"
   ]
  },
  {
   "cell_type": "code",
   "execution_count": null,
   "id": "a885db1b",
   "metadata": {},
   "outputs": [],
   "source": []
  },
  {
   "cell_type": "code",
   "execution_count": null,
   "id": "47242108",
   "metadata": {},
   "outputs": [],
   "source": []
  },
  {
   "cell_type": "code",
   "execution_count": null,
   "id": "df789b20",
   "metadata": {},
   "outputs": [],
   "source": []
  },
  {
   "cell_type": "code",
   "execution_count": null,
   "id": "7aec5796",
   "metadata": {},
   "outputs": [],
   "source": []
  },
  {
   "cell_type": "code",
   "execution_count": null,
   "id": "96c3528e",
   "metadata": {},
   "outputs": [],
   "source": []
  },
  {
   "cell_type": "code",
   "execution_count": null,
   "id": "fb2a6a6f",
   "metadata": {},
   "outputs": [],
   "source": []
  },
  {
   "cell_type": "code",
   "execution_count": null,
   "id": "fe7ef944",
   "metadata": {},
   "outputs": [],
   "source": []
  },
  {
   "cell_type": "code",
   "execution_count": null,
   "id": "fa536120",
   "metadata": {},
   "outputs": [],
   "source": []
  },
  {
   "cell_type": "code",
   "execution_count": null,
   "id": "28c6d523",
   "metadata": {},
   "outputs": [],
   "source": []
  },
  {
   "cell_type": "code",
   "execution_count": null,
   "id": "b95faef7",
   "metadata": {},
   "outputs": [],
   "source": []
  },
  {
   "cell_type": "code",
   "execution_count": null,
   "id": "556b348a",
   "metadata": {},
   "outputs": [],
   "source": []
  },
  {
   "cell_type": "code",
   "execution_count": null,
   "id": "7e1cb4bd",
   "metadata": {},
   "outputs": [],
   "source": []
  },
  {
   "cell_type": "code",
   "execution_count": null,
   "id": "cbdbff5e",
   "metadata": {},
   "outputs": [],
   "source": []
  },
  {
   "cell_type": "code",
   "execution_count": null,
   "id": "e83b7bde",
   "metadata": {},
   "outputs": [],
   "source": []
  },
  {
   "cell_type": "code",
   "execution_count": null,
   "id": "54c61282",
   "metadata": {},
   "outputs": [],
   "source": []
  },
  {
   "cell_type": "code",
   "execution_count": null,
   "id": "8ea41315",
   "metadata": {},
   "outputs": [],
   "source": []
  },
  {
   "cell_type": "code",
   "execution_count": null,
   "id": "fce2d546",
   "metadata": {},
   "outputs": [],
   "source": []
  },
  {
   "cell_type": "code",
   "execution_count": null,
   "id": "82553f6b",
   "metadata": {},
   "outputs": [],
   "source": []
  },
  {
   "cell_type": "code",
   "execution_count": null,
   "id": "3d8d868c",
   "metadata": {},
   "outputs": [],
   "source": []
  },
  {
   "cell_type": "code",
   "execution_count": null,
   "id": "237e634c",
   "metadata": {},
   "outputs": [],
   "source": []
  },
  {
   "cell_type": "code",
   "execution_count": null,
   "id": "84491754",
   "metadata": {},
   "outputs": [],
   "source": []
  },
  {
   "cell_type": "code",
   "execution_count": null,
   "id": "96dd6b6d",
   "metadata": {},
   "outputs": [],
   "source": []
  },
  {
   "cell_type": "code",
   "execution_count": null,
   "id": "f0eeb9a0",
   "metadata": {},
   "outputs": [],
   "source": []
  }
 ],
 "metadata": {
  "kernelspec": {
   "display_name": "Python 3 (ipykernel)",
   "language": "python",
   "name": "python3"
  },
  "language_info": {
   "codemirror_mode": {
    "name": "ipython",
    "version": 3
   },
   "file_extension": ".py",
   "mimetype": "text/x-python",
   "name": "python",
   "nbconvert_exporter": "python",
   "pygments_lexer": "ipython3",
   "version": "3.9.12"
  }
 },
 "nbformat": 4,
 "nbformat_minor": 5
}
