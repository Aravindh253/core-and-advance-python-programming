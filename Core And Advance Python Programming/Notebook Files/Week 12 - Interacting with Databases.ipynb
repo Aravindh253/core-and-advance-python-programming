{
 "cells": [
  {
   "cell_type": "markdown",
   "id": "5843db16",
   "metadata": {},
   "source": [
    "# Q1.Create a database called temp_db. Open a cursor to this newly created database.\n"
   ]
  },
  {
   "cell_type": "code",
   "execution_count": 1,
   "id": "8d65e40b",
   "metadata": {},
   "outputs": [],
   "source": [
    "import sqlite3\n",
    "con = sqlite3.connect('temp_db.db')\n",
    "cur = con.cursor()"
   ]
  },
  {
   "cell_type": "code",
   "execution_count": null,
   "id": "db47ee5a",
   "metadata": {},
   "outputs": [],
   "source": []
  },
  {
   "cell_type": "markdown",
   "id": "a740b127",
   "metadata": {},
   "source": [
    "# Q2.In the database temp_db created in Q.No.1, create a table called emp with the attributes empno, ename, salary and deptno\\"
   ]
  },
  {
   "cell_type": "code",
   "execution_count": 2,
   "id": "d9fa359d",
   "metadata": {},
   "outputs": [
    {
     "data": {
      "text/plain": [
       "<sqlite3.Cursor at 0x2d943dab570>"
      ]
     },
     "execution_count": 2,
     "metadata": {},
     "output_type": "execute_result"
    }
   ],
   "source": [
    "cur.execute('CREATE TABLE IF NOT EXISTS emp(empno INTEGER,ename TEXT, salary INTEGER,deptno INTEGER)')"
   ]
  },
  {
   "cell_type": "code",
   "execution_count": null,
   "id": "438ced69",
   "metadata": {},
   "outputs": [],
   "source": []
  },
  {
   "cell_type": "markdown",
   "id": "a7b1a10f",
   "metadata": {},
   "source": [
    "# Q3.In the emp table created in Q.No. 2, insert any five records"
   ]
  },
  {
   "cell_type": "code",
   "execution_count": 3,
   "id": "fdb78ffa",
   "metadata": {},
   "outputs": [],
   "source": [
    "def insert(e,n,s,d):\n",
    "    con = sqlite3.connect('temp_db.db')\n",
    "    cur = con.cursor()\n",
    "    cur.execute('INSERT INTO emp values(?,?,?,?)',(e,n,s,d))\n",
    "    con.commit()\n",
    "    con.close()\n",
    "insert(1,'Rose',15000,10)\n",
    "insert(2,'Mia Madison',20000,20)\n",
    "insert(3,'Ashley stonegal',25000,30)\n",
    "insert(4,'Andrew olesten',30000,40)\n",
    "insert(5,'Danny',35000,50)\n",
    "\n"
   ]
  },
  {
   "cell_type": "code",
   "execution_count": 4,
   "id": "906a2291",
   "metadata": {},
   "outputs": [],
   "source": []
  },
  {
   "cell_type": "markdown",
   "id": "5ded183e",
   "metadata": {},
   "source": [
    "# Q4.From the emp table, display all the records."
   ]
  },
  {
   "cell_type": "code",
   "execution_count": 4,
   "id": "464fa9b3",
   "metadata": {},
   "outputs": [
    {
     "data": {
      "text/plain": [
       "[(1, 'Rose', 15000, 10),\n",
       " (2, 'Mia Madison', 20000, 20),\n",
       " (3, 'Ashley stonegal', 25000, 30),\n",
       " (4, 'Andrew olesten', 30000, 40),\n",
       " (5, 'Danny', 35000, 50)]"
      ]
     },
     "execution_count": 4,
     "metadata": {},
     "output_type": "execute_result"
    }
   ],
   "source": [
    "def display():\n",
    "    cur.execute('SELECT * FROM emp')\n",
    "    record = cur.fetchall()\n",
    "    return record\n",
    "display()"
   ]
  },
  {
   "cell_type": "markdown",
   "id": "dbe3c44e",
   "metadata": {},
   "source": [
    "# Q5.From the emp table, display the records of only those employees whose salary is greater than 15000 and who belong to deptno 10"
   ]
  },
  {
   "cell_type": "code",
   "execution_count": 8,
   "id": "941f2d2c",
   "metadata": {},
   "outputs": [
    {
     "data": {
      "text/plain": [
       "[]"
      ]
     },
     "execution_count": 8,
     "metadata": {},
     "output_type": "execute_result"
    }
   ],
   "source": [
    "import sqlite3\n",
    "def display1():\n",
    "    con = sqlite3.connect('temp_db.db')\n",
    "    cur = con.cursor()\n",
    "    cur.execute('SELECT * FROM emp WHERE salary > 15000 and deptno==10')\n",
    "    result = cur.fetchall()\n",
    "    con.commit()\n",
    "    #con.close()\n",
    "    return result\n",
    "\n",
    "display1()"
   ]
  },
  {
   "cell_type": "markdown",
   "id": "d1fd8f5f",
   "metadata": {},
   "source": [
    "# Q6.From the emp table, display the records of only those employees whose salary lies between 20000 and 25000 and who do not belong to the deptno 10"
   ]
  },
  {
   "cell_type": "code",
   "execution_count": 9,
   "id": "44d89a62",
   "metadata": {},
   "outputs": [
    {
     "data": {
      "text/plain": [
       "[(2, 'Mia Madison', 20000, 20), (3, 'Ashley stonegal', 25000, 30)]"
      ]
     },
     "execution_count": 9,
     "metadata": {},
     "output_type": "execute_result"
    }
   ],
   "source": [
    "import sqlite3\n",
    "def display1():\n",
    "    con = sqlite3.connect('temp_db.db')    \n",
    "    cur = con.cursor()\n",
    "    cur.execute('SELECT * FROM emp WHERE salary BETWEEN 20000 and 25000 and deptno != 10')\n",
    "    result = cur.fetchall()\n",
    "    con.commit()\n",
    "    con.close()\n",
    "    return result\n",
    "display1()"
   ]
  },
  {
   "cell_type": "markdown",
   "id": "76d50f39",
   "metadata": {},
   "source": [
    "# Q7.From the emp table, display the records of only those employees whose name begins with M.\n",
    " "
   ]
  },
  {
   "cell_type": "code",
   "execution_count": 10,
   "id": "d09387d7",
   "metadata": {},
   "outputs": [
    {
     "data": {
      "text/plain": [
       "[(2, 'Mia Madison', 20000, 20)]"
      ]
     },
     "execution_count": 10,
     "metadata": {},
     "output_type": "execute_result"
    }
   ],
   "source": [
    "def display2():\n",
    "    con = sqlite3.connect('temp_db.db')\n",
    "    cur = con.cursor()\n",
    "    cur.execute('SELECT * FROM emp WHERE ename LIKE \\\"M%\\\" ORDER BY ename')\n",
    "    result = cur.fetchall()\n",
    "    con.commit()\n",
    "    con.close()\n",
    "    return result\n",
    "display2()"
   ]
  },
  {
   "cell_type": "markdown",
   "id": "094fcb7e",
   "metadata": {},
   "source": [
    "# Q8.In the emp table, delete the records of those employees who belong to deptno 30"
   ]
  },
  {
   "cell_type": "code",
   "execution_count": 11,
   "id": "8bd82867",
   "metadata": {},
   "outputs": [],
   "source": [
    "def delete():\n",
    "    cur.execute('DELETE FROM emp WHERE deptno==30')"
   ]
  },
  {
   "cell_type": "code",
   "execution_count": 13,
   "id": "5575d2ba",
   "metadata": {},
   "outputs": [],
   "source": [
    "delete()"
   ]
  },
  {
   "cell_type": "code",
   "execution_count": 14,
   "id": "9567bb12",
   "metadata": {},
   "outputs": [
    {
     "data": {
      "text/plain": [
       "[(1, 'Rose', 15000, 10),\n",
       " (2, 'Mia Madison', 20000, 20),\n",
       " (4, 'Andrew olesten', 30000, 40),\n",
       " (5, 'Danny', 35000, 50)]"
      ]
     },
     "execution_count": 14,
     "metadata": {},
     "output_type": "execute_result"
    }
   ],
   "source": [
    "display()"
   ]
  },
  {
   "cell_type": "markdown",
   "id": "4321a3d1",
   "metadata": {},
   "source": [
    "# Q9. In the emp table, update the salary of an employee by 10 % by accepting the empno from the user."
   ]
  },
  {
   "cell_type": "code",
   "execution_count": 18,
   "id": "b1a52c54",
   "metadata": {},
   "outputs": [],
   "source": [
    "def update(e):\n",
    "    cur.execute('UPDATE emp SET salary=salary+(salary*10/100) WHERE empno=?',(e,))\n"
   ]
  },
  {
   "cell_type": "code",
   "execution_count": 19,
   "id": "cd4771b8",
   "metadata": {},
   "outputs": [],
   "source": [
    "update(5)"
   ]
  },
  {
   "cell_type": "code",
   "execution_count": 20,
   "id": "678fa86e",
   "metadata": {},
   "outputs": [
    {
     "data": {
      "text/plain": [
       "[(1, 'Rose', 15000, 10),\n",
       " (2, 'Mia Madison', 20000, 20),\n",
       " (4, 'Andrew olesten', 30000, 40),\n",
       " (5, 'Danny', 46585, 50)]"
      ]
     },
     "execution_count": 20,
     "metadata": {},
     "output_type": "execute_result"
    }
   ],
   "source": [
    "display()"
   ]
  },
  {
   "cell_type": "markdown",
   "id": "263f0e49",
   "metadata": {},
   "source": [
    "# Q10.Delete the emp table."
   ]
  },
  {
   "cell_type": "code",
   "execution_count": 21,
   "id": "8ab2b3fa",
   "metadata": {},
   "outputs": [],
   "source": [
    "def delete1():\n",
    "    cur.execute('DELETE FROM emp')\n",
    "delete1()"
   ]
  },
  {
   "cell_type": "code",
   "execution_count": 22,
   "id": "2428a493",
   "metadata": {},
   "outputs": [
    {
     "data": {
      "text/plain": [
       "[]"
      ]
     },
     "execution_count": 22,
     "metadata": {},
     "output_type": "execute_result"
    }
   ],
   "source": [
    "display()"
   ]
  },
  {
   "cell_type": "code",
   "execution_count": null,
   "id": "2683ae8e",
   "metadata": {},
   "outputs": [],
   "source": []
  }
 ],
 "metadata": {
  "kernelspec": {
   "display_name": "Python 3 (ipykernel)",
   "language": "python",
   "name": "python3"
  },
  "language_info": {
   "codemirror_mode": {
    "name": "ipython",
    "version": 3
   },
   "file_extension": ".py",
   "mimetype": "text/x-python",
   "name": "python",
   "nbconvert_exporter": "python",
   "pygments_lexer": "ipython3",
   "version": "3.9.12"
  }
 },
 "nbformat": 4,
 "nbformat_minor": 5
}
